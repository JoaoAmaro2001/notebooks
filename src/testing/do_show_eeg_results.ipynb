{
 "cells": [
  {
   "cell_type": "markdown",
   "metadata": {},
   "source": [
    "This script should be used to run a quick analysis on EEG data to showcase results."
   ]
  },
  {
   "cell_type": "code",
   "execution_count": null,
   "metadata": {},
   "outputs": [],
   "source": [
    "from utils import *\n",
    "from modules import *\n",
    "from missing_sync import build_schema\n",
    "%matplotlib widget\n",
    "datapicker = create_datapicker(path=r'Z:\\Exp_4-outdoor_walk\\lisbon\\sourcedata\\data',schema=build_schema, calibrate_ubx_to_harp=False)\n",
    "display(datapicker)"
   ]
  }
 ],
 "metadata": {
  "language_info": {
   "name": "python"
  }
 },
 "nbformat": 4,
 "nbformat_minor": 2
}
