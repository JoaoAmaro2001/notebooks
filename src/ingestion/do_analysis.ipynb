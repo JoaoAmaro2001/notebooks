{
 "cells": [
  {
   "cell_type": "markdown",
   "metadata": {},
   "source": [
    "# Standardize output data\n",
    "Run these cells sequentially"
   ]
  },
  {
   "cell_type": "code",
   "execution_count": 2,
   "metadata": {},
   "outputs": [],
   "source": [
    "# Import necessary modules\n",
    "import os\n",
    "from utils import *\n",
    "import utils.for_setpath as path"
   ]
  },
  {
   "cell_type": "code",
   "execution_count": 4,
   "metadata": {},
   "outputs": [
    {
     "data": {
      "text/plain": [
       "19"
      ]
     },
     "execution_count": 4,
     "metadata": {},
     "output_type": "execute_result"
    }
   ],
   "source": [
    "fetch_path_num('Estrela')"
   ]
  },
  {
   "cell_type": "markdown",
   "metadata": {},
   "source": [
    "# Run analysis"
   ]
  },
  {
   "cell_type": "markdown",
   "metadata": {},
   "source": [
    "#### Within-subject"
   ]
  },
  {
   "cell_type": "code",
   "execution_count": 2,
   "metadata": {},
   "outputs": [],
   "source": [
    "results_dir = os.path.join(path.results, 'fulldata')\n",
    "design = 'within_subject'\n",
    "sub = 'OE011'\n",
    "ses = 'Baixa'\n",
    "data = do_analysis_design(results_dir, design, subject=sub, session=ses)"
   ]
  },
  {
   "cell_type": "code",
   "execution_count": null,
   "metadata": {},
   "outputs": [],
   "source": [
    "# Correlations"
   ]
  },
  {
   "cell_type": "markdown",
   "metadata": {},
   "source": [
    "#### Betweeen-subject"
   ]
  },
  {
   "cell_type": "code",
   "execution_count": 7,
   "metadata": {},
   "outputs": [],
   "source": [
    "results_dir = os.path.join(path.results, 'fulldata')\n",
    "design = 'between_subject'\n",
    "data = do_analysis_design(results_dir, design)\n",
    "# Export\n",
    "results_dir = os.path.join(path.results, 'fulldata')\n",
    "output_dir  = os.path.join(path.results, 'fulldata_analysis',design)\n",
    "if not os.path.exists(output_dir):\n",
    "    os.makedirs(output_dir)\n",
    "data.to_csv(os.path.join(output_dir, 'between_subject.csv'), index=False)"
   ]
  },
  {
   "cell_type": "code",
   "execution_count": null,
   "metadata": {},
   "outputs": [],
   "source": [
    "# Do correlation between variables"
   ]
  },
  {
   "cell_type": "markdown",
   "metadata": {},
   "source": [
    "#### Within-path"
   ]
  },
  {
   "cell_type": "code",
   "execution_count": 10,
   "metadata": {},
   "outputs": [],
   "source": [
    "results_dir = os.path.join(path.results, 'fulldata')\n",
    "design = 'within_path'\n",
    "ses = 'Baixa'\n",
    "data = do_analysis_design(results_dir, design, session=ses)\n",
    "# Export\n",
    "results_dir = os.path.join(path.results, 'fulldata')\n",
    "output_dir  = os.path.join(path.results, 'fulldata_analysis',design, ses)\n",
    "if not os.path.exists(output_dir):\n",
    "    os.makedirs(output_dir)\n",
    "data.to_csv(os.path.join(output_dir, f'{ses}.csv'), index=False)"
   ]
  },
  {
   "cell_type": "code",
   "execution_count": null,
   "metadata": {},
   "outputs": [],
   "source": [
    "# Plot "
   ]
  },
  {
   "cell_type": "markdown",
   "metadata": {},
   "source": [
    "#### Between-path"
   ]
  },
  {
   "cell_type": "code",
   "execution_count": 3,
   "metadata": {},
   "outputs": [],
   "source": [
    "results_dir = os.path.join(path.results, 'fulldata')\n",
    "design = 'between_path'\n",
    "ses = ['Baixa', 'Graca','Parque','Lapa','Gulbenkian','Belem']\n",
    "data = do_analysis_design(results_dir, design, session=ses)\n",
    "# Export\n",
    "results_dir = os.path.join(path.results, 'fulldata')\n",
    "output_dir  = os.path.join(path.results, 'fulldata_analysis',design)\n",
    "if not os.path.exists(output_dir):\n",
    "    os.makedirs(output_dir)\n",
    "data.to_csv(os.path.join(output_dir, f'main_paths.csv'), index=False)"
   ]
  },
  {
   "cell_type": "code",
   "execution_count": null,
   "metadata": {},
   "outputs": [],
   "source": [
    "# Plot data onto map\n"
   ]
  }
 ],
 "metadata": {
  "kernelspec": {
   "display_name": "Python 3",
   "language": "python",
   "name": "python3"
  },
  "language_info": {
   "codemirror_mode": {
    "name": "ipython",
    "version": 3
   },
   "file_extension": ".py",
   "mimetype": "text/x-python",
   "name": "python",
   "nbconvert_exporter": "python",
   "pygments_lexer": "ipython3",
   "version": "3.11.10"
  }
 },
 "nbformat": 4,
 "nbformat_minor": 2
}
