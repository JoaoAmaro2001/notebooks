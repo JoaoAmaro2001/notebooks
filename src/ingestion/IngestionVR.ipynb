{
 "cells": [
  {
   "cell_type": "code",
   "execution_count": 1,
   "metadata": {},
   "outputs": [],
   "source": [
    "import pandas as pd\n",
    "from modules import *\n",
    "from schemaVR import custom_schema\n",
    "%matplotlib widget"
   ]
  },
  {
   "cell_type": "markdown",
   "metadata": {},
   "source": [
    "### 1. Load dataset"
   ]
  },
  {
   "cell_type": "code",
   "execution_count": null,
   "metadata": {},
   "outputs": [],
   "source": [
    "datapicker = create_datapicker(show_summary=False, ubx=False, unity=True, create_geodata=False, schema=custom_schema)\n",
    "display(datapicker)"
   ]
  },
  {
   "cell_type": "code",
   "execution_count": null,
   "metadata": {},
   "outputs": [],
   "source": [
    "posxMinMax = datapicker.dataset.streams.Unity.Georeference.data[\"TargetPositionX\"].to_numpy()\n",
    "posyMinMax = datapicker.dataset.streams.Unity.Georeference.data[\"TargetPositionY\"].to_numpy()\n",
    "poszMinMax = datapicker.dataset.streams.Unity.Georeference.data[\"TargetPositionZ\"].to_numpy()\n",
    "latMinMax = datapicker.dataset.streams.Unity.Georeference.data[\"TargetLatitude\"].to_numpy()\n",
    "longMinMax = datapicker.dataset.streams.Unity.Georeference.data[\"TargetLongitude\"].to_numpy()\n",
    "altMinMax = datapicker.dataset.streams.Unity.Georeference.data[\"TargetAltitude\"].to_numpy()\n",
    "print(posxMinMax)\n",
    "datapicker.dataset.streams.Unity.Georeference.data"
   ]
  },
  {
   "cell_type": "code",
   "execution_count": null,
   "metadata": {},
   "outputs": [],
   "source": [
    "cartesian_x = datapicker.dataset.streams.Unity.Transform.data[\"Transform.Position.X\"]\n",
    "cartesian_y = datapicker.dataset.streams.Unity.Transform.data[\"Transform.Position.Y\"]\n",
    "cartesian_z = datapicker.dataset.streams.Unity.Transform.data[\"Transform.Position.Z\"]\n",
    "\n",
    "longitude = coordinate_transform(cartesian_z,poszMinMax[0], poszMinMax[1], longMinMax[0], longMinMax[1])\n",
    "longitude = pd.DataFrame(longitude)\n",
    "longitude.rename(columns={\"Transform.Position.Z\": \"Longitude\"}, inplace = True)\n",
    "latitude = coordinate_transform(cartesian_x,posxMinMax[0], posxMinMax[1], latMinMax[0], latMinMax[1])\n",
    "latitude = pd.DataFrame(latitude)\n",
    "latitude.rename(columns={\"Transform.Position.X\": \"Latitude\"}, inplace = True)\n",
    "altitude = coordinate_transform(cartesian_y,posyMinMax[0], posyMinMax[1], altMinMax[0], altMinMax[1])\n",
    "altitude = pd.DataFrame(altitude)\n",
    "\n",
    "altitude.rename(columns={\"Transform.Position.Y\": \"Elevation\"}, inplace = True)\n",
    "print(type(altitude))\n",
    "datapicker.dataset.streams.Unity.Transform.data = pd.concat([datapicker.dataset.streams.Unity.Transform.data, latitude, longitude, altitude], axis = 1)\n"
   ]
  },
  {
   "cell_type": "code",
   "execution_count": null,
   "metadata": {},
   "outputs": [],
   "source": [
    "latitude\n"
   ]
  },
  {
   "cell_type": "code",
   "execution_count": null,
   "metadata": {},
   "outputs": [],
   "source": [
    "datapicker.dataset.streams.Glia.IMU.data"
   ]
  },
  {
   "cell_type": "code",
   "execution_count": null,
   "metadata": {},
   "outputs": [],
   "source": [
    "datapicker.dataset.streams.Unity.Transform.data"
   ]
  },
  {
   "cell_type": "code",
   "execution_count": null,
   "metadata": {},
   "outputs": [],
   "source": [
    "import pluma.preprocessing.resampling as resampling\n",
    "geo = Georeference(datapicker.dataset.streams.Unity.Transform.data)\n",
    "datapicker.dataset.georeference.from_dataframe(datapicker.dataset.streams.Unity.Transform.data)\n",
    "datapicker.geodata = datapicker.dataset.to_geoframe()\n",
    "#sampling_dt = datetime.timedelta(seconds=1)\n",
    "#georeference = datapicker.dataset.georeference.spacetime.loc[:, \"Latitude\":\"Elevation\"].resample(datapicker.dataset.georeference.spacetime, origin='start').mean()\n",
    "#resampling.resample_georeference(datapicker.dataset.georeference.spacetime, datetime.timedelta(seconds=1))\n",
    "datapicker.dataset.georeference.spacetime"
   ]
  },
  {
   "cell_type": "code",
   "execution_count": null,
   "metadata": {},
   "outputs": [],
   "source": [
    "space_time = datapicker.dataset.streams.Unity.Transform.data.copy()\n",
    "time = datapicker.dataset.streams.Unity.Transform.data.Timestamp\n",
    "space_time.index = time.index\n",
    "space_time\n",
    "#spacetime = pd.DataFrame({'Latitude': space[\"Transform.Position.X\"],\n",
    "#                          'Longitude': space[\"Transform.Position.Z\"],\n",
    "#                          'Elevation': space[\"Transform.Position.Y\"]})\n",
    "#spacetime.index = time.index\n",
    "#georeference = Georeference(spacetime=spacetime)\n",
    "# dataset.streams.Unity.Transform.Timestamps.data"
   ]
  },
  {
   "cell_type": "code",
   "execution_count": null,
   "metadata": {},
   "outputs": [],
   "source": [
    "\n",
    "sampling_dt=datetime.timedelta(seconds = 2)\n",
    "input_data = datapicker.dataset.streams.BioData.ECG.data\n",
    "\n",
    "# resampled\n",
    "ecg_correlation = pd.merge_asof(input_data, space_time, left_index=True, right_index=True)\n",
    "ecg_resample = ecg_correlation.resample(sampling_dt, origin='start').mean()\n",
    "\n",
    "# input_data = datapicker.dataset.streams.EEG.Sync.data\n",
    "# eeg_correlation = pd.merge_asof(input_data, space_time, left_index=True, right_index=True)\n",
    "\n",
    "# Some possible plots\n",
    "# eeg_correlation.plot(x='Latitude',y='Longitude')\n",
    "# resample\n",
    "#eeg_correlation.plot(x='Latitude', y='Longitude')\n",
    "# fig = plt.figure()\n",
    "# ecg_correlation.Value0.plot()\n",
    "# ecg_resample.Value0.plot()\n",
    "\n",
    "ecg_correlation"
   ]
  },
  {
   "cell_type": "markdown",
   "metadata": {},
   "source": [
    "### 2. Explore Dataset Maps"
   ]
  },
  {
   "cell_type": "code",
   "execution_count": null,
   "metadata": {},
   "outputs": [],
   "source": [
    "exploremap(datapicker.geodata)"
   ]
  },
  {
   "cell_type": "markdown",
   "metadata": {},
   "source": [
    "### 3. Explore Dataset Streams"
   ]
  },
  {
   "cell_type": "code",
   "execution_count": null,
   "metadata": {},
   "outputs": [],
   "source": [
    "plot_traces({\n",
    "    'accelX': datapicker.dataset.streams.Accelerometer.data[\"Accl_X\"],\n",
    "    'temp (C)': datapicker.dataset.streams.TK.AirQuality.Temperature.data/100,\n",
    "    'angleX': datapicker.dataset.streams.Accelerometer.data[\"Orientation_X\"],\n",
    "    'altitude': datapicker.dataset.georeference.elevation,\n",
    "    'iaq': datapicker.dataset.streams.TK.AirQuality.IAQIndex.data,\n",
    "})"
   ]
  },
  {
   "cell_type": "markdown",
   "metadata": {},
   "source": [
    "### 4. Export Dataset to OGC API"
   ]
  },
  {
   "cell_type": "code",
   "execution_count": null,
   "metadata": {},
   "outputs": [],
   "source": [
    "record = DatasetRecord(datapicker.dataset, datapicker.geodata, properties=RecordProperties(\n",
    "    title='<City> Outdoor Walk: <CityRegion> Subject <ID>',\n",
    "    description='Outdoor walk data collection',\n",
    "    license='CC BY-NC 4.0',\n",
    "    tool='Bonsai',\n",
    "    keywords=['<City>', 'Outdoor', 'Walk', 'Microclimate', 'Biosignals'],\n",
    "    contacts=[\n",
    "        Contact(\n",
    "            name='Your Name',\n",
    "            institution='Your Institution',\n",
    "            email='youremail@yourdomain.com'\n",
    "        )\n",
    "    ],\n",
    "    themes=[]\n",
    "))"
   ]
  },
  {
   "cell_type": "code",
   "execution_count": null,
   "metadata": {},
   "outputs": [],
   "source": [
    "rpath = Path(record.id)\n",
    "export_geoframe_to_geojson(datapicker.geodata, rpath.with_suffix('.geojson'))\n",
    "with open(rpath.with_suffix('.json'), 'w') as f:\n",
    "    f.write(record.to_json())"
   ]
  }
 ],
 "metadata": {
  "kernelspec": {
   "display_name": "Python 3",
   "language": "python",
   "name": "python3"
  },
  "language_info": {
   "codemirror_mode": {
    "name": "ipython",
    "version": 3
   },
   "file_extension": ".py",
   "mimetype": "text/x-python",
   "name": "python",
   "nbconvert_exporter": "python",
   "pygments_lexer": "ipython3",
   "version": "3.11.9"
  },
  "orig_nbformat": 4
 },
 "nbformat": 4,
 "nbformat_minor": 2
}
