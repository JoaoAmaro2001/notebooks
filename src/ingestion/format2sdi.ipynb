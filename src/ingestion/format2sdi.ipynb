{
 "cells": [
  {
   "cell_type": "markdown",
   "metadata": {},
   "source": [
    "### 0. Import Modules"
   ]
  },
  {
   "cell_type": "code",
   "execution_count": 7,
   "metadata": {},
   "outputs": [
    {
     "data": {
      "application/vnd.jupyter.widget-view+json": {
       "model_id": "59da83b3201745febe35f3b382eefb40",
       "version_major": 2,
       "version_minor": 0
      },
      "text/plain": [
       "FileChooser(path='C:\\Users\\joaop\\git\\JoaoAmaro2001\\notebooks\\src\\ingestion', filename='', title='<b>Select the…"
      ]
     },
     "metadata": {},
     "output_type": "display_data"
    }
   ],
   "source": [
    "from utils import *\n",
    "from modules import *\n",
    "%matplotlib widget\n",
    "datapicker = create_datapicker()\n",
    "display(datapicker)"
   ]
  },
  {
   "cell_type": "markdown",
   "metadata": {},
   "source": [
    "### 1. Test for specific data streams"
   ]
  },
  {
   "cell_type": "code",
   "execution_count": null,
   "metadata": {},
   "outputs": [],
   "source": [
    "import os\n",
    "import pandas as pd\n",
    "from openpyxl import Workbook\n",
    "from pythermalcomfort.models import utci\n",
    "import numpy as np\n",
    "\n",
    "# ---------------------------------------------------------------------\n",
    "# Initialize the Excel workbook and sheet\n",
    "wb = Workbook()\n",
    "ws = wb.active\n",
    "ws.append([\"Participant Name\", \"Session Name\", \"Status\", \"Radiant Temperature\"])\n",
    "\n",
    "# Path information\n",
    "sourcedata = r'Z:\\Exp_4-outdoor_walk\\lisbon\\sourcedata\\data'\n",
    "logdata    = r'Z:\\Exp_4-outdoor_walk\\lisbon\\sourcedata\\supp\\log'\n",
    "\n",
    "# ---------------------------------------------------------------------\n",
    "# FUNCTIONS\n",
    "def process_session(session_path, participant_name, session_name):\n",
    "    data_path = os.path.join(session_path)\n",
    "    try:\n",
    "        datapicker.reset(path=data_path)\n",
    "        create_dataset(datapicker=datapicker)\n",
    "        status = 1  # Success\n",
    "    except Exception as e:\n",
    "        status = 0  # Failed\n",
    "    \n",
    "    radiant_temp_status = 0  # Default to 0 if not found or if all zeros\n",
    "\n",
    "    if status == 1:\n",
    "        # Generate the sessions.tsv file\n",
    "        geodata = datapicker.geodata  # Retrieve geodata\n",
    "        create_geodata(geodata)\n",
    "\n",
    "        # Get GPS coordinates and integrate them into geodata\n",
    "        coords = datapicker.geodata.geometry.get_coordinates(include_z=True)\n",
    "        # Optionally rename the coordinate columns\n",
    "        coords.rename(columns={'y': 'latitude', 'x': 'longitude', 'z': 'elevation'}, inplace=True)\n",
    "        geodata = geodata.join(coords).drop(columns=['geometry'])\n",
    "\n",
    "        # Check if the radiant temperature column exists and contains non-zero values\n",
    "        if 'tk_thermocouple_temperature_value' in geodata:\n",
    "            if geodata['tk_thermocouple_temperature_value'].sum() != 0:\n",
    "                radiant_temp_status = 1  # Non-zero values exist\n",
    "\n",
    "        # Save the full geodata to an Excel file in the log directory\n",
    "        log_folder = os.path.join(logdata, f\"sub-{participant_name}\", f\"ses-{session_name}\")\n",
    "        os.makedirs(log_folder, exist_ok=True)\n",
    "        geodata_file = os.path.join(log_folder, f\"sub-{participant_name}_ses-{session_name}_geodata.xlsx\")\n",
    "        \n",
    "        # Convert geodata to DataFrame if it's not already and save as Excel\n",
    "        if not isinstance(geodata, pd.DataFrame):\n",
    "            geodata = pd.DataFrame(geodata)\n",
    "        geodata.to_excel(geodata_file, index=False)\n",
    "    \n",
    "    # Log the result\n",
    "    ws.append([participant_name, session_name, status, radiant_temp_status])\n",
    "\n",
    "def create_geodata(geodata):\n",
    "    \"\"\"Compute UTCI across whole time series.\"\"\"\n",
    "    \n",
    "    # Define custom parameters\n",
    "    humidity = geodata['tk_humidity_humidity_value'] / 100  # in fraction\n",
    "    wind_speed = np.sqrt(geodata['atmos_northwind_value']**2 + geodata['atmos_eastwind_value']**2)  # m/s (~2.5 m of elevation)\n",
    "    temp_atmos = geodata['atmos_airtemperature_value']  # in ºC\n",
    "    temp_tk = geodata['tk_airquality_temperature_value'] / 100  # in ºC\n",
    "    temp_tk_ptc = geodata['tk_ptc_airtemp_value'] / 100  # in ºC\n",
    "    temp_radiant = geodata['tk_thermocouple_temperature_value'] / 100  # in ºC\n",
    "\n",
    "    # Assign custom parameters to the geodata attribute\n",
    "    geodata['humidity'] = humidity\n",
    "    geodata['wind_speed'] = wind_speed\n",
    "    geodata['temp_atmos'] = temp_atmos\n",
    "    geodata['temp_tk'] = temp_tk\n",
    "    geodata['temp_tk_ptc'] = temp_tk_ptc\n",
    "    geodata['temp_radiant'] = temp_radiant\n",
    "\n",
    "    # Compute the UTCI\n",
    "    geodata['utci'] = utci(tdb=temp_atmos, tr=temp_radiant, v=wind_speed, rh=humidity)\n",
    "\n",
    "# ---------------------------------------------------------------------\n",
    "# MAIN SCRIPT\n",
    "for participant_folder in os.listdir(sourcedata):\n",
    "    if participant_folder.startswith(\"OE\"):\n",
    "        participant_path = os.path.join(sourcedata, participant_folder)\n",
    "        for session_folder in os.listdir(participant_path):\n",
    "            session_path = os.path.join(participant_path, session_folder)\n",
    "            if os.path.isdir(session_path):\n",
    "                process_session(session_path, participant_folder, session_folder)\n",
    "\n",
    "# Save the Excel file with the updated status in the log directory\n",
    "result_file = os.path.join(logdata, \"session_processing_results.xlsx\")\n",
    "wb.save(result_file)"
   ]
  },
  {
   "cell_type": "markdown",
   "metadata": {},
   "source": [
    "# EEG"
   ]
  },
  {
   "cell_type": "code",
   "execution_count": 6,
   "metadata": {},
   "outputs": [
    {
     "ename": "ModuleNotFoundError",
     "evalue": "No module named 'eeglabio'",
     "output_type": "error",
     "traceback": [
      "\u001b[1;31m---------------------------------------------------------------------------\u001b[0m",
      "\u001b[1;31mModuleNotFoundError\u001b[0m                       Traceback (most recent call last)",
      "Cell \u001b[1;32mIn[6], line 2\u001b[0m\n\u001b[0;32m      1\u001b[0m \u001b[38;5;66;03m# Import .set using MNE\u001b[39;00m\n\u001b[1;32m----> 2\u001b[0m \u001b[38;5;28;01mfrom\u001b[39;00m \u001b[38;5;21;01meeglabio\u001b[39;00m\u001b[38;5;21;01m.\u001b[39;00m\u001b[38;5;21;01mutils\u001b[39;00m \u001b[38;5;28;01mimport\u001b[39;00m export_mne_raw\n\u001b[0;32m      4\u001b[0m export_mne_raw(dataset\u001b[38;5;241m.\u001b[39mstreams\u001b[38;5;241m.\u001b[39mEEG\u001b[38;5;241m.\u001b[39mdata, \u001b[38;5;124m\"\u001b[39m\u001b[38;5;124meeg_data.set\u001b[39m\u001b[38;5;124m\"\u001b[39m)\n",
      "\u001b[1;31mModuleNotFoundError\u001b[0m: No module named 'eeglabio'"
     ]
    }
   ],
   "source": [
    "# Import .set using MNE\n",
    "from eeglabio.utils import export_mne_raw\n",
    "\n",
    "export_mne_raw(dataset.streams.EEG.data, \"eeg_data.set\")"
   ]
  }
 ],
 "metadata": {
  "kernelspec": {
   "display_name": "emotional-cities",
   "language": "python",
   "name": "python3"
  },
  "language_info": {
   "codemirror_mode": {
    "name": "ipython",
    "version": 3
   },
   "file_extension": ".py",
   "mimetype": "text/x-python",
   "name": "python",
   "nbconvert_exporter": "python",
   "pygments_lexer": "ipython3",
   "version": "3.12.3"
  }
 },
 "nbformat": 4,
 "nbformat_minor": 2
}
