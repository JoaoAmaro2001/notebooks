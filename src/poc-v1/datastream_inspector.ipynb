{
 "cells": [
  {
   "cell_type": "markdown",
   "metadata": {},
   "source": [
    "# Inspecting datastreams\n",
    "\n",
    "Goal is to find the nature of the data, and inspect the timestamps and rates of incoming data streams"
   ]
  },
  {
   "cell_type": "code",
   "execution_count": null,
   "metadata": {},
   "outputs": [],
   "source": [
    "import matplotlib.pyplot as plt\n",
    "import datetime\n",
    "import tilemapbase as tmb\n",
    "import numpy as np\n",
    "import pandas as pd\n",
    "from pluma.stream.georeference import Georeference\n",
    "from pluma.stream.ubx import _UBX_MSGIDS\n",
    "from pluma.schema import Dataset\n",
    "from IPython.display import clear_output\n",
    "\n",
    "\n",
    "## Notebook plotting\n",
    "%matplotlib inline\n",
    "%matplotlib widget\n",
    "\n",
    "plt.style.use('ggplot')\n",
    "\n",
    "## Figure export parameters\n",
    "new_rc_params = {'text.usetex': False,\n",
    "\"svg.fonttype\": 'none'\n",
    "}\n",
    "import matplotlib as mpl\n",
    "mpl.rcParams.update(new_rc_params)"
   ]
  },
  {
   "cell_type": "markdown",
   "metadata": {},
   "source": [
    "## Check the errors in the code below when if below load from remote is True \n",
    "Another point is that environment.yaml should have specific versions of libraries that we are loading \n",
    "We need to update readme.md in order to explain how to get data from aws"
   ]
  },
  {
   "cell_type": "markdown",
   "metadata": {},
   "source": [
    "# Set the paths to the dataset and build the dataset"
   ]
  },
  {
   "cell_type": "code",
   "execution_count": null,
   "metadata": {},
   "outputs": [],
   "source": [
    "LOAD_FROM_REMOTE = True\n",
    "root = r\"pathToRoot\"\n",
    "\n",
    "stream_root_folder = 's3://emotional-cities/data/nrg/poc-v1/FMUL/FMUL2022_10_21_11_20_53/'  # Path to the dataset. Can be local or remote.\n",
    "\n",
    "dataset = Dataset(stream_root_folder, datasetlabel=\"FMUL_\" + stream_root_folder.split(\"\\\\\")[-1], georeference= Georeference())  # Create a Dataset object that will contain the ingested data.\n",
    "dataset.populate_streams(autoload=False)  # Add the \"schema\" that we want to load to our Dataset. If we want to load the whole dataset automatically, set autoload to True.\n",
    "\n",
    "if LOAD_FROM_REMOTE:\n",
    "# To load a single stream, we can set the autoload property to \"True\" and use the Dataset.reload_streams method. In this case, we will load all streams by default\n",
    "    if False:\n",
    "        dataset.streams.EEG.autoload = True\n",
    "        dataset.streams.UBX.autoload = True\n",
    "        dataset.reload_streams(force_load=False)\n",
    "    # For now, we will build the whole dataset:\n",
    "    else:\n",
    "        dataset.reload_streams(force_load=True)  # We will just load every single stream at the same time. This might take a while if loading from AWS\n",
    "        dataset.add_georeference_and_calibrate()\n",
    "        dataset.export_dataset(filename=f\"{root}\\dataset.pickle\") # We can export the dataset as a .pickle file.\n",
    "\n",
    "    # Some warnings will be printed if some sensors were not acquired during the experiment. These are normal and can be usually ignored.\n",
    "\n",
    "# In order to not having to run this routine multiple times, the output of the ingestion can be saved as a pickle file to be loaded later. E.g.:\n",
    "else:\n",
    "    dataset = Dataset.import_dataset(f\"{root}\\dataset.pickle\")  # ... and reimport it at a later point.\n",
    "\n",
    "print(f\"Dataset: {dataset} loaded successfully, and {'not' if not dataset.has_calibration else 'sucessfully'} calibrated.\" )\n",
    "\n"
   ]
  },
  {
   "cell_type": "markdown",
   "metadata": {},
   "source": [
    "Define function to find the basic statistics and plot the difference between adjacent timestamps"
   ]
  },
  {
   "cell_type": "code",
   "execution_count": null,
   "metadata": {},
   "outputs": [],
   "source": [
    "def diff_stats(stream, start = 100, end = 200, xlabel = 'Time', ylabel = ''):\n",
    "    try:\n",
    "        diff_series = stream.data.index.to_series().diff().dropna().astype(np.int64)  / int(1e6)\n",
    "        mini = diff_series[1:].min()\n",
    "        maxi = diff_series[1:].max()\n",
    "        meani = diff_series[1:].mean()\n",
    "        print(f'Minimum = {mini}. Maximum = {maxi}. Mean = {meani}') \n",
    "        # names = stream.data.columns\n",
    "        \n",
    "        plt.figure()\n",
    "        plt.plot(diff_series)\n",
    "        plt.title(stream.streamlabel + ' Difference')\n",
    "        plt.ylabel('Time Difference (ms)')\n",
    "        plt.xlabel(stream.data.index.name)\n",
    "        \n",
    "        # plt.figure()\n",
    "        # plt.title('Data')\n",
    "        stream.data.plot(title = stream.streamlabel)\n",
    "\n",
    "        # plt.plot(data)\n",
    "        # plt.title('Data')\n",
    "        # plt.ylabel(ylabel)\n",
    "        # plt.xlabel(xlabel)\n",
    "\n",
    "        print(diff_series[start:end])\n",
    "    except:\n",
    "        clear_output(wait=False)\n",
    "    return diff_series"
   ]
  },
  {
   "cell_type": "markdown",
   "metadata": {},
   "source": [
    "### Check basic statistics and plot timestamp difference\n",
    "\n",
    "[ECG](https://neurogears.sharepoint.com/:b:/s/EmotionalCities/EYOX02N88hRHnUCdREf_kq0BEoxvZY92nHfPOPZmq7Ua3Q?e=xWQPvN) 1KHz\n"
   ]
  },
  {
   "cell_type": "code",
   "execution_count": null,
   "metadata": {},
   "outputs": [],
   "source": [
    "ecg = dataset.streams.BioData.ECG\n",
    "# ecg.streamlabel\n",
    "diff_stats(ecg)\n"
   ]
  },
  {
   "cell_type": "markdown",
   "metadata": {},
   "source": [
    "Microphone \n",
    "\n",
    "Microphone has two streams currently captured data is being done at 44100 kHz with buffers od 0.1 ms which means that every buffer has 5 samples\n",
    " 1. The timestamps for each buffer sample \n",
    " 2. Each buffer data "
   ]
  },
  {
   "cell_type": "code",
   "execution_count": null,
   "metadata": {},
   "outputs": [],
   "source": [
    "audio_timestamps = dataset.streams.Microphone.BufferIndex\n",
    "diff_stats(audio_timestamps)"
   ]
  },
  {
   "cell_type": "code",
   "execution_count": null,
   "metadata": {},
   "outputs": [],
   "source": [
    "audio_data = dataset.streams.Microphone.Audio.data\n",
    "number_of_audio_buffers = audio_data.shape[0]/5\n",
    "\n",
    "unique_set = sorted(set(pd.DataFrame(audio_timestamps.data).index))"
   ]
  },
  {
   "cell_type": "code",
   "execution_count": null,
   "metadata": {},
   "outputs": [],
   "source": [
    "print('Difference between number of audio timestamps and number of audio buffers')\n",
    "print(number_of_audio_buffers - audio_timestamps.data.shape[0])\n",
    "print(f'audio_timestamps = {audio_timestamps.data.shape[0]}')\n",
    "print(f'number_of_audio_buffers = {number_of_audio_buffers}')\n",
    "print('Unique Timestamps :')\n",
    "unique_set"
   ]
  },
  {
   "cell_type": "markdown",
   "metadata": {},
   "source": [
    "## Tinkerforge GPS V2\n",
    "From [tinkerforge webpage](https://www.tinkerforge.com/en/doc/Hardware/Bricklets/GPS_V2.html)\n",
    "Supports GPS and GLONASS simultaneously\n",
    "Receives movement-, position-, altitude, time data and PPS signal\n",
    "Elevation, azimuth and SNR for each GPS/GLONASS satellite accessible\n",
    "99 channels, 10Hz update rate\n",
    " - Latitude \n",
    " - Longitude \n",
    " - Altitude\n",
    " - Date \n",
    " - Time\n",
    " - Has Fix\n"
   ]
  },
  {
   "cell_type": "markdown",
   "metadata": {},
   "source": [
    "Latitude is only measured when GPS receives satellite signals"
   ]
  },
  {
   "cell_type": "code",
   "execution_count": null,
   "metadata": {},
   "outputs": [],
   "source": [
    "tk_latitude = dataset.streams.TK.GPS.Latitude \n",
    "diff_stats(tk_latitude)"
   ]
  },
  {
   "cell_type": "markdown",
   "metadata": {},
   "source": [
    "Longitude is only measured when GPS receives satellite signals"
   ]
  },
  {
   "cell_type": "code",
   "execution_count": null,
   "metadata": {},
   "outputs": [],
   "source": [
    "tk_longitude = dataset.streams.TK.GPS.Longitude \n",
    "diff_stats(tk_longitude)"
   ]
  },
  {
   "cell_type": "markdown",
   "metadata": {},
   "source": [
    "Altitude is only measured when GPS receives satellite signals"
   ]
  },
  {
   "cell_type": "code",
   "execution_count": null,
   "metadata": {},
   "outputs": [],
   "source": [
    "tk_altitude = dataset.streams.TK.GPS.Longitude \n",
    "diff_stats(tk_altitude)"
   ]
  },
  {
   "cell_type": "markdown",
   "metadata": {},
   "source": [
    "Date the day currently named Data (should be renamed to date)"
   ]
  },
  {
   "cell_type": "code",
   "execution_count": null,
   "metadata": {},
   "outputs": [],
   "source": [
    "tk_date = dataset.streams.TK.GPS.Data \n",
    "diff_stats(tk_date)"
   ]
  },
  {
   "cell_type": "markdown",
   "metadata": {},
   "source": [
    "Time hours in the day"
   ]
  },
  {
   "cell_type": "code",
   "execution_count": null,
   "metadata": {},
   "outputs": [],
   "source": [
    "tk_time = dataset.streams.TK.GPS.Time \n",
    "diff_stats(tk_time)"
   ]
  },
  {
   "cell_type": "markdown",
   "metadata": {},
   "source": [
    "HasFix means that GPS has a position info from the satellites"
   ]
  },
  {
   "cell_type": "code",
   "execution_count": null,
   "metadata": {},
   "outputs": [],
   "source": [
    "tk_has_fix = dataset.streams.TK.GPS.HasFix \n",
    "diff_stats(tk_has_fix)"
   ]
  },
  {
   "cell_type": "markdown",
   "metadata": {},
   "source": [
    "## Air quality \n",
    "From [tinkerforge webpage](https://www.tinkerforge.com/en/doc/Hardware/Bricklets/Air_Quality.html)\n",
    "Measures IAQ (indoor air quality) index, air pressure, humidity and temperature\n",
    "IAQ index and humidity values are temperature compensated  \n",
    "Configurable temperature compensation for use cases in enclosures\n",
    " - IAQ (indoor air quality) index\n",
    " - Temperature in °C\n",
    " - Humidity in %RH\n",
    " - Air pressure in hPa"
   ]
  },
  {
   "cell_type": "markdown",
   "metadata": {},
   "source": [
    "IAQ (indoor air quality) index"
   ]
  },
  {
   "cell_type": "code",
   "execution_count": null,
   "metadata": {},
   "outputs": [],
   "source": [
    "tk_air_quality = dataset.streams.TK.AirQuality.IAQIndex\n",
    "diff_stats(tk_air_quality)"
   ]
  },
  {
   "cell_type": "markdown",
   "metadata": {},
   "source": [
    "Temperature in °C"
   ]
  },
  {
   "cell_type": "code",
   "execution_count": null,
   "metadata": {},
   "outputs": [],
   "source": [
    "tk_temperature = dataset.streams.TK.AirQuality.Temperature\n",
    "diff_stats(tk_temperature)"
   ]
  },
  {
   "cell_type": "markdown",
   "metadata": {},
   "source": [
    "Humidity in %RH"
   ]
  },
  {
   "cell_type": "code",
   "execution_count": null,
   "metadata": {},
   "outputs": [],
   "source": [
    "tk_humidity = dataset.streams.TK.AirQuality.Humidity\n",
    "diff_stats(tk_humidity)"
   ]
  },
  {
   "cell_type": "markdown",
   "metadata": {},
   "source": [
    "Air pressure in hPa"
   ]
  },
  {
   "cell_type": "code",
   "execution_count": null,
   "metadata": {},
   "outputs": [],
   "source": [
    "tk_air_pressure = dataset.streams.TK.AirQuality.AirPressure\n",
    "diff_stats(tk_air_pressure)"
   ]
  },
  {
   "cell_type": "markdown",
   "metadata": {},
   "source": [
    "## Tinkerforge Sound pressure \n",
    "From [tinkerforge webpage](https://www.tinkerforge.com/en/doc/Hardware/Bricklets/Sound_Pressure_Level.html)\n",
    "The values stored are in dbx10\n"
   ]
  },
  {
   "cell_type": "code",
   "execution_count": null,
   "metadata": {},
   "outputs": [],
   "source": [
    "tk_sound_pressure = dataset.streams.TK.SoundPressureLevel.SPL\n",
    "diff_stats(tk_sound_pressure)\n"
   ]
  },
  {
   "cell_type": "code",
   "execution_count": null,
   "metadata": {},
   "outputs": [],
   "source": [
    "ax = (tk_sound_pressure.data/10).plot(title = 'dB')\n",
    "ax.set_ylabel(\"Sound Pressure Level (dB)\")\n"
   ]
  },
  {
   "cell_type": "markdown",
   "metadata": {},
   "source": [
    "## Tinkerforge Humidity \n",
    "From [tinkerforge webpage](https://www.tinkerforge.com/en/doc/Hardware/Bricklets/Humidity_V2.html)\n",
    "Values stored are in relative humidity x 100.0"
   ]
  },
  {
   "cell_type": "code",
   "execution_count": null,
   "metadata": {},
   "outputs": [],
   "source": [
    "tk_humidity = dataset.streams.TK.Humidity.Humidity\n",
    "diff_stats(tk_humidity)"
   ]
  },
  {
   "cell_type": "code",
   "execution_count": null,
   "metadata": {},
   "outputs": [],
   "source": [
    "ax = (tk_humidity.data/100).plot(title = 'RH%')\n",
    "ax.set_ylabel(\"Relative Humidity (%)\")"
   ]
  }
 ],
 "metadata": {
  "kernelspec": {
   "display_name": "Python 3",
   "language": "python",
   "name": "python3"
  },
  "language_info": {
   "codemirror_mode": {
    "name": "ipython",
    "version": 3
   },
   "file_extension": ".py",
   "mimetype": "text/x-python",
   "name": "python",
   "nbconvert_exporter": "python",
   "pygments_lexer": "ipython3",
   "version": "3.10.14"
  }
 },
 "nbformat": 4,
 "nbformat_minor": 2
}
