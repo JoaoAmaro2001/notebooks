{
 "cells": [
  {
   "cell_type": "code",
   "execution_count": 1,
   "metadata": {},
   "outputs": [],
   "source": [
    "import matplotlib.pyplot as plt\n",
    "import datetime\n",
    "import tilemapbase as tmb\n",
    "\n",
    "from pluma.stream.georeference import Georeference\n",
    "from pluma.stream.ubx import _UBX_MSGIDS\n",
    "from pluma.schema import Dataset\n",
    "\n",
    "## Notebook plotting\n",
    "%matplotlib inline\n",
    "plt.style.use('ggplot')\n",
    "\n",
    "## Figure export parameters\n",
    "new_rc_params = {'text.usetex': False,\n",
    "\"svg.fonttype\": 'none'\n",
    "}\n",
    "import matplotlib as mpl\n",
    "mpl.rcParams.update(new_rc_params)\n"
   ]
  },
  {
   "cell_type": "markdown",
   "metadata": {},
   "source": [
    "# Set the paths to the dataset and build the dataset"
   ]
  },
  {
   "cell_type": "code",
   "execution_count": 2,
   "metadata": {},
   "outputs": [
    {
     "name": "stdout",
     "output_type": "stream",
     "text": [
      "@(WIN) --> I:\\João\\Exp_4-outdoor_experiment\\OE011\\Lisbon_Baixa_sub-OE104011_2024-05-13T141238Z\\20240513151232_OE104011_EXP4.nedf\n",
      "Reading file...\n",
      "Header information has been correctly retrieved.\n",
      "Attempting to automatically correct eeg timestamps to harp timestamps...\n",
      "Done.\n",
      "Dataset: <pluma.schema.Dataset object at 0x00000220CFB5FE10> loaded successfully, and not calibrated.\n"
     ]
    }
   ],
   "source": [
    "LOAD_FROM_REMOTE = True\n",
    "root = r\"C:\\Users\\neurogears\\Desktop\"\n",
    "\n",
    "stream_root_folder = r'I:\\João\\Exp_4-outdoor_experiment\\OE011\\Lisbon_Baixa_sub-OE104011_2024-05-13T141238Z'  # Path to the dataset. Can be local or remote.\n",
    "\n",
    "dataset = Dataset(stream_root_folder, datasetlabel=\"FMUL_\" + stream_root_folder.split(\"\\\\\")[-1], georeference= Georeference())  # Create a Dataset object that will contain the ingested data.\n",
    "dataset.populate_streams(autoload=False)  # Add the \"schema\" that we want to load to our Dataset. If we want to load the whole dataset automatically, set autoload to True.\n",
    "\n",
    "if LOAD_FROM_REMOTE:\n",
    "# To load a single stream, we can set the autoload property to \"True\" and use the Dataset.reload_streams method. In this case, we will load all streams by default\n",
    "    if True:\n",
    "        dataset.streams.EEG.autoload = True\n",
    "        dataset.streams.UBX.autoload = True\n",
    "        dataset.reload_streams(force_load=False)\n",
    "    # For now, we will build the whole dataset:\n",
    "    else:\n",
    "        dataset.reload_streams(force_load=True)  # We will just load every single stream at the same time. This might take a while if loading from AWS\n",
    "        dataset.add_georeference_and_calibrate()\n",
    "        dataset.export_dataset(filename=f\"{root}\\dataset.pickle\") # We can export the dataset as a .pickle file.\n",
    "\n",
    "    # Some warnings will be printed if some sensors were not acquired during the experiment. These are normal and can be usually ignored.\n",
    "\n",
    "# In order to not having to run this routine multiple times, the output of the ingestion can be saved as a pickle file to be loaded later. E.g.:\n",
    "else:\n",
    "    dataset = Dataset.import_dataset(f\"{root}\\dataset.pickle\")  # ... and reimport it at a later point.\n",
    "print(f\"Dataset: {dataset} loaded successfully, and {'not' if not dataset.has_calibration else 'sucessfully'} calibrated.\" )\n",
    "\n"
   ]
  },
  {
   "cell_type": "markdown",
   "metadata": {},
   "source": [
    "## Dataset structure\n",
    "The Dataset class follows the following structure:\n",
    "```\n",
    "Dataset/\n",
    "├─ rootfolder\n",
    "├─ datasetlabel\n",
    "├─ streams/\n",
    "├─ georeference/\n",
    "```\n",
    "\n",
    " - `rootfolder` and `datasetlabel` are properties that store the location and label of the dataset, respectively.\n",
    " - `streams` is a `DotMap` structure with the initialized schema and, if loaded, all the data. The data of each stream can be generally accessed using `dataset.Stream.data`. Additionally, the Streams can be easily navigated using the \".\" (dot) notation to access different, potentially nested, relevant fields.\n",
    " - `georeference` stores the DataFrame necessary to \"geotag\" sensor data (*i.e.* to cross-reference in time)"
   ]
  },
  {
   "cell_type": "code",
   "execution_count": 7,
   "metadata": {},
   "outputs": [
    {
     "name": "stdout",
     "output_type": "stream",
     "text": [
      "Empty DataFrame\n",
      "Columns: [Seconds, Value]\n",
      "Index: []\n"
     ]
    },
    {
     "data": {
      "image/png": "[encoded data removed]",
      "text/plain": [
       "<Figure size 640x480 with 1 Axes>"
      ]
     },
     "metadata": {},
     "output_type": "display_data"
    }
   ],
   "source": [
    "#Visualize the data from a sensor:\n",
    "SensorData = dataset.streams.BioData.ECG #  Reference one arbitrary sensor data\n",
    "# Most of the data is in a DataFrame format. Indexed by a column that indicates the time at which the sample was acquired.\n",
    "print(SensorData.data.head(5))\n",
    "plt.figure()\n",
    "plt.plot(SensorData.data)\n",
    "plt.xlabel(\"Time (UTC)\")\n",
    "plt.ylabel(\"Sensor Value (a.u.)\")\n",
    "plt.show()"
   ]
  },
  {
   "cell_type": "code",
   "execution_count": 8,
   "metadata": {},
   "outputs": [
    {
     "ename": "ValueError",
     "evalue": "Input dataframe is empty.",
     "output_type": "error",
     "traceback": [
      "\u001b[1;31m---------------------------------------------------------------------------\u001b[0m",
      "\u001b[1;31mValueError\u001b[0m                                Traceback (most recent call last)",
      "Cell \u001b[1;32mIn[8], line 2\u001b[0m\n\u001b[0;32m      1\u001b[0m \u001b[38;5;66;03m# For simplicity a general method can be used to attempt to plot the data inside a stream:\u001b[39;00m\n\u001b[1;32m----> 2\u001b[0m dataset\u001b[38;5;241m.\u001b[39mstreams\u001b[38;5;241m.\u001b[39mTK\u001b[38;5;241m.\u001b[39mHumidity\u001b[38;5;241m.\u001b[39mHumidity\u001b[38;5;241m.\u001b[39mplot()\n",
      "File \u001b[1;32mc:\\git\\JoaoAmaro2001\\notebooks\\.conda\\Lib\\site-packages\\pluma\\stream\\__init__.py:77\u001b[0m, in \u001b[0;36mStream.plot\u001b[1;34m(self, col, **kwargs)\u001b[0m\n\u001b[0;32m     75\u001b[0m \u001b[38;5;28;01mdef\u001b[39;00m \u001b[38;5;21mplot\u001b[39m(\u001b[38;5;28mself\u001b[39m, col\u001b[38;5;241m=\u001b[39m\u001b[38;5;28;01mNone\u001b[39;00m, \u001b[38;5;241m*\u001b[39m\u001b[38;5;241m*\u001b[39mkwargs):\n\u001b[0;32m     76\u001b[0m \t\u001b[38;5;28;01mif\u001b[39;00m \u001b[38;5;28mself\u001b[39m\u001b[38;5;241m.\u001b[39mdata\u001b[38;5;241m.\u001b[39mempty:\n\u001b[1;32m---> 77\u001b[0m \t\t\u001b[38;5;28;01mraise\u001b[39;00m \u001b[38;5;167;01mValueError\u001b[39;00m(\u001b[38;5;124m\"\u001b[39m\u001b[38;5;124mInput dataframe is empty.\u001b[39m\u001b[38;5;124m\"\u001b[39m)\n\u001b[0;32m     78\u001b[0m \tthisfigure \u001b[38;5;241m=\u001b[39m plt\u001b[38;5;241m.\u001b[39mfigure()\n\u001b[0;32m     79\u001b[0m \tlabel \u001b[38;5;241m=\u001b[39m \u001b[38;5;28mself\u001b[39m\u001b[38;5;241m.\u001b[39mdevice \u001b[38;5;241m+\u001b[39m \u001b[38;5;124m\"\u001b[39m\u001b[38;5;124m.\u001b[39m\u001b[38;5;124m\"\u001b[39m \u001b[38;5;241m+\u001b[39m \u001b[38;5;28mself\u001b[39m\u001b[38;5;241m.\u001b[39mstreamlabel\n",
      "\u001b[1;31mValueError\u001b[0m: Input dataframe is empty."
     ]
    }
   ],
   "source": [
    "# For simplicity a general method can be used to attempt to plot the data inside a stream:\n",
    "dataset.streams.TK.Humidity.Humidity.plot()"
   ]
  },
  {
   "cell_type": "markdown",
   "metadata": {},
   "source": [
    "## Visualization:\n",
    "\n",
    "We are not in a position where we can visualize data in both time and space. The following cells will demo this affordance."
   ]
  },
  {
   "cell_type": "code",
   "execution_count": 9,
   "metadata": {},
   "outputs": [],
   "source": [
    "# The first time you run tilemapbase library, you will need to initiate a cache structure\n",
    "# Initialize tilemapbase cache (run this only once)\n",
    "if False:\n",
    "    import tilemapbase as tmb\n",
    "    tmb.init(create=True)"
   ]
  },
  {
   "cell_type": "code",
   "execution_count": 10,
   "metadata": {},
   "outputs": [
    {
     "ename": "ValueError",
     "evalue": "xmin < xmax.",
     "output_type": "error",
     "traceback": [
      "\u001b[1;31m---------------------------------------------------------------------------\u001b[0m",
      "\u001b[1;31mValueError\u001b[0m                                Traceback (most recent call last)",
      "Cell \u001b[1;32mIn[10], line 3\u001b[0m\n\u001b[0;32m      1\u001b[0m \u001b[38;5;66;03m# First we will plot the spatial data colorcoded by time\u001b[39;00m\n\u001b[1;32m----> 3\u001b[0m fig \u001b[38;5;241m=\u001b[39m dataset\u001b[38;5;241m.\u001b[39mshowmap(colorscale_override\u001b[38;5;241m=\u001b[39mdataset\u001b[38;5;241m.\u001b[39mgeoreference\u001b[38;5;241m.\u001b[39mspacetime\u001b[38;5;241m.\u001b[39mindex,\n\u001b[0;32m      4\u001b[0m                       cmap \u001b[38;5;241m=\u001b[39m \u001b[38;5;124m\"\u001b[39m\u001b[38;5;124mjet\u001b[39m\u001b[38;5;124m\"\u001b[39m,\n\u001b[0;32m      5\u001b[0m                       markersize\u001b[38;5;241m=\u001b[39m \u001b[38;5;241m5\u001b[39m, figsize \u001b[38;5;241m=\u001b[39m (\u001b[38;5;241m10\u001b[39m,\u001b[38;5;241m10\u001b[39m)\n\u001b[0;32m      6\u001b[0m                       )\n\u001b[0;32m      7\u001b[0m fig\u001b[38;5;241m.\u001b[39mget_axes()[\u001b[38;5;241m0\u001b[39m]\u001b[38;5;241m.\u001b[39mset_title(dataset\u001b[38;5;241m.\u001b[39mdatasetlabel)\n\u001b[0;32m      8\u001b[0m fig\u001b[38;5;241m.\u001b[39mshow()\n",
      "File \u001b[1;32mc:\\git\\JoaoAmaro2001\\notebooks\\.conda\\Lib\\site-packages\\pluma\\schema\\__init__.py:232\u001b[0m, in \u001b[0;36mDataset.showmap\u001b[1;34m(self, **kwargs)\u001b[0m\n\u001b[0;32m    229\u001b[0m \u001b[38;5;28;01mdef\u001b[39;00m \u001b[38;5;21mshowmap\u001b[39m(\u001b[38;5;28mself\u001b[39m, \u001b[38;5;241m*\u001b[39m\u001b[38;5;241m*\u001b[39mkwargs):\n\u001b[0;32m    230\u001b[0m \u001b[38;5;250m    \u001b[39m\u001b[38;5;124;03m\"\"\"Overload to export.showmap that shows spatial information color-coded by time.\u001b[39;00m\n\u001b[0;32m    231\u001b[0m \u001b[38;5;124;03m    \"\"\"\u001b[39;00m\n\u001b[1;32m--> 232\u001b[0m     \u001b[38;5;28;01mreturn\u001b[39;00m maps\u001b[38;5;241m.\u001b[39mshowmap(\u001b[38;5;28mself\u001b[39m\u001b[38;5;241m.\u001b[39mgeoreference\u001b[38;5;241m.\u001b[39mspacetime, \u001b[38;5;241m*\u001b[39m\u001b[38;5;241m*\u001b[39mkwargs)\n",
      "File \u001b[1;32mc:\\git\\JoaoAmaro2001\\notebooks\\.conda\\Lib\\site-packages\\pluma\\export\\maps.py:33\u001b[0m, in \u001b[0;36mshowmap\u001b[1;34m(path, color, fig, ax, figsize, with_scaling, to_aspect, tiles, cmap, markersize, **cbarkwargs)\u001b[0m\n\u001b[0;32m     30\u001b[0m     cmap \u001b[38;5;241m=\u001b[39m \u001b[38;5;28;01mNone\u001b[39;00m\n\u001b[0;32m     32\u001b[0m \u001b[38;5;28;01mif\u001b[39;00m \u001b[38;5;28misinstance\u001b[39m(path, gpd\u001b[38;5;241m.\u001b[39mGeoDataFrame):\n\u001b[1;32m---> 33\u001b[0m     extent \u001b[38;5;241m=\u001b[39m tmb\u001b[38;5;241m.\u001b[39mextent_from_frame(path)\n\u001b[0;32m     34\u001b[0m     coords \u001b[38;5;241m=\u001b[39m path\u001b[38;5;241m.\u001b[39mget_coordinates()\n\u001b[0;32m     35\u001b[0m     path \u001b[38;5;241m=\u001b[39m coords\u001b[38;5;241m.\u001b[39mapply(\u001b[38;5;28;01mlambda\u001b[39;00m p: tmb\u001b[38;5;241m.\u001b[39mproject(p\u001b[38;5;241m.\u001b[39mx, p\u001b[38;5;241m.\u001b[39my), axis\u001b[38;5;241m=\u001b[39m\u001b[38;5;241m1\u001b[39m)\n",
      "File \u001b[1;32mc:\\git\\JoaoAmaro2001\\notebooks\\.conda\\Lib\\site-packages\\tilemapbase\\mapping.py:557\u001b[0m, in \u001b[0;36mextent_from_frame\u001b[1;34m(frame, buffer)\u001b[0m\n\u001b[0;32m    555\u001b[0m height \u001b[38;5;241m=\u001b[39m (bounds[\u001b[38;5;241m3\u001b[39m] \u001b[38;5;241m-\u001b[39m bounds[\u001b[38;5;241m1\u001b[39m]) \u001b[38;5;241m/\u001b[39m \u001b[38;5;241m2\u001b[39m \u001b[38;5;241m+\u001b[39m buffer\n\u001b[0;32m    556\u001b[0m x, y \u001b[38;5;241m=\u001b[39m (bounds[\u001b[38;5;241m0\u001b[39m] \u001b[38;5;241m+\u001b[39m bounds[\u001b[38;5;241m2\u001b[39m]) \u001b[38;5;241m/\u001b[39m \u001b[38;5;241m2\u001b[39m, (bounds[\u001b[38;5;241m1\u001b[39m] \u001b[38;5;241m+\u001b[39m bounds[\u001b[38;5;241m3\u001b[39m]) \u001b[38;5;241m/\u001b[39m \u001b[38;5;241m2\u001b[39m\n\u001b[1;32m--> 557\u001b[0m e \u001b[38;5;241m=\u001b[39m Extent\u001b[38;5;241m.\u001b[39mfrom_lonlat(x \u001b[38;5;241m-\u001b[39m width, x \u001b[38;5;241m+\u001b[39m width, y \u001b[38;5;241m-\u001b[39m height, y \u001b[38;5;241m+\u001b[39m height)\n\u001b[0;32m    558\u001b[0m \u001b[38;5;28;01mif\u001b[39;00m proj \u001b[38;5;241m==\u001b[39m _WEB_MERCATOR:\n\u001b[0;32m    559\u001b[0m     \u001b[38;5;28;01mreturn\u001b[39;00m e\u001b[38;5;241m.\u001b[39mto_project_3857()\n",
      "File \u001b[1;32mc:\\git\\JoaoAmaro2001\\notebooks\\.conda\\Lib\\site-packages\\tilemapbase\\mapping.py:245\u001b[0m, in \u001b[0;36mExtent.from_lonlat\u001b[1;34m(longitude_min, longitude_max, latitude_min, latitude_max)\u001b[0m\n\u001b[0;32m    243\u001b[0m xmin, ymin \u001b[38;5;241m=\u001b[39m project(longitude_min, latitude_max)\n\u001b[0;32m    244\u001b[0m xmax, ymax \u001b[38;5;241m=\u001b[39m project(longitude_max, latitude_min)\n\u001b[1;32m--> 245\u001b[0m \u001b[38;5;28;01mreturn\u001b[39;00m Extent(xmin, xmax, ymin, ymax)\n",
      "File \u001b[1;32mc:\\git\\JoaoAmaro2001\\notebooks\\.conda\\Lib\\site-packages\\tilemapbase\\mapping.py:199\u001b[0m, in \u001b[0;36mExtent.__init__\u001b[1;34m(self, xmin, xmax, ymin, ymax, projection_type)\u001b[0m\n\u001b[0;32m    198\u001b[0m \u001b[38;5;28;01mdef\u001b[39;00m \u001b[38;5;21m__init__\u001b[39m(\u001b[38;5;28mself\u001b[39m, xmin, xmax, ymin, ymax, projection_type\u001b[38;5;241m=\u001b[39m\u001b[38;5;124m\"\u001b[39m\u001b[38;5;124mnormal\u001b[39m\u001b[38;5;124m\"\u001b[39m):\n\u001b[1;32m--> 199\u001b[0m     \u001b[38;5;28msuper\u001b[39m()\u001b[38;5;241m.\u001b[39m\u001b[38;5;21m__init__\u001b[39m(xmin, xmax, ymin, ymax)\n\u001b[0;32m    200\u001b[0m     \u001b[38;5;28;01mif\u001b[39;00m ymin \u001b[38;5;241m<\u001b[39m \u001b[38;5;241m0\u001b[39m \u001b[38;5;129;01mor\u001b[39;00m ymax \u001b[38;5;241m>\u001b[39m \u001b[38;5;241m1\u001b[39m:\n\u001b[0;32m    201\u001b[0m         \u001b[38;5;28;01mraise\u001b[39;00m \u001b[38;5;167;01mValueError\u001b[39;00m(\u001b[38;5;124m\"\u001b[39m\u001b[38;5;124mNeed 0 < ymin < ymax < 1.\u001b[39m\u001b[38;5;124m\"\u001b[39m)\n",
      "File \u001b[1;32mc:\\git\\JoaoAmaro2001\\notebooks\\.conda\\Lib\\site-packages\\tilemapbase\\mapping.py:82\u001b[0m, in \u001b[0;36m_BaseExtent.__init__\u001b[1;34m(self, xmin, xmax, ymin, ymax)\u001b[0m\n\u001b[0;32m     80\u001b[0m \u001b[38;5;28mself\u001b[39m\u001b[38;5;241m.\u001b[39m_ymin, \u001b[38;5;28mself\u001b[39m\u001b[38;5;241m.\u001b[39m_ymax \u001b[38;5;241m=\u001b[39m ymin, ymax\n\u001b[0;32m     81\u001b[0m \u001b[38;5;28;01mif\u001b[39;00m \u001b[38;5;129;01mnot\u001b[39;00m (xmin \u001b[38;5;241m<\u001b[39m xmax):\n\u001b[1;32m---> 82\u001b[0m     \u001b[38;5;28;01mraise\u001b[39;00m \u001b[38;5;167;01mValueError\u001b[39;00m(\u001b[38;5;124m\"\u001b[39m\u001b[38;5;124mxmin < xmax.\u001b[39m\u001b[38;5;124m\"\u001b[39m)\n\u001b[0;32m     83\u001b[0m \u001b[38;5;28;01mif\u001b[39;00m \u001b[38;5;129;01mnot\u001b[39;00m (ymin \u001b[38;5;241m<\u001b[39m ymax):\n\u001b[0;32m     84\u001b[0m     \u001b[38;5;28;01mraise\u001b[39;00m \u001b[38;5;167;01mValueError\u001b[39;00m(\u001b[38;5;124m\"\u001b[39m\u001b[38;5;124mymin < ymax.\u001b[39m\u001b[38;5;124m\"\u001b[39m)\n",
      "\u001b[1;31mValueError\u001b[0m: xmin < xmax."
     ]
    },
    {
     "data": {
      "image/png": "[encoded data removed]",
      "text/plain": [
       "<Figure size 1000x1000 with 1 Axes>"
      ]
     },
     "metadata": {},
     "output_type": "display_data"
    }
   ],
   "source": [
    "# First we will plot the spatial data colorcoded by time\n",
    "\n",
    "fig = dataset.showmap(colorscale_override=dataset.georeference.spacetime.index,\n",
    "                      cmap = \"jet\",\n",
    "                      markersize= 5, figsize = (10,10)\n",
    "                      )\n",
    "fig.get_axes()[0].set_title(dataset.datasetlabel)\n",
    "fig.show()"
   ]
  },
  {
   "cell_type": "code",
   "execution_count": null,
   "metadata": {},
   "outputs": [],
   "source": [
    "from pluma.preprocessing.resampling import resample_temporospatial\n",
    "from pluma.export.maps import showmap\n",
    "\n",
    "# resample_temporospatial() resamples data in time and space using a dataset georeference. By default, it resamples the data to 2s bins\n",
    "\n",
    "resampled = resample_temporospatial(dataset.streams.TK.AirQuality.Temperature.data,\n",
    "                                    dataset.georeference,\n",
    "                                    sampling_dt=datetime.timedelta(seconds = 2))\n",
    "\n",
    "\n",
    "tiles = tmb.tiles.Stamen_Watercolour # We can change how the map looks by passing an optional \"tiles\" argument\n",
    "fig = showmap(resampled,\n",
    "              figsize=(10,10),\n",
    "              tiles=tiles)\n",
    "fig.get_axes()[0].set_title(dataset.datasetlabel)\n",
    "fig.show()"
   ]
  },
  {
   "cell_type": "code",
   "execution_count": 11,
   "metadata": {},
   "outputs": [
    {
     "ename": "KeyError",
     "evalue": "'Value0'",
     "output_type": "error",
     "traceback": [
      "\u001b[1;31m---------------------------------------------------------------------------\u001b[0m",
      "\u001b[1;31mKeyError\u001b[0m                                  Traceback (most recent call last)",
      "File \u001b[1;32mc:\\git\\JoaoAmaro2001\\notebooks\\.conda\\Lib\\site-packages\\pandas\\core\\indexes\\base.py:3805\u001b[0m, in \u001b[0;36mIndex.get_loc\u001b[1;34m(self, key)\u001b[0m\n\u001b[0;32m   3804\u001b[0m \u001b[38;5;28;01mtry\u001b[39;00m:\n\u001b[1;32m-> 3805\u001b[0m     \u001b[38;5;28;01mreturn\u001b[39;00m \u001b[38;5;28mself\u001b[39m\u001b[38;5;241m.\u001b[39m_engine\u001b[38;5;241m.\u001b[39mget_loc(casted_key)\n\u001b[0;32m   3806\u001b[0m \u001b[38;5;28;01mexcept\u001b[39;00m \u001b[38;5;167;01mKeyError\u001b[39;00m \u001b[38;5;28;01mas\u001b[39;00m err:\n",
      "File \u001b[1;32mindex.pyx:167\u001b[0m, in \u001b[0;36mpandas._libs.index.IndexEngine.get_loc\u001b[1;34m()\u001b[0m\n",
      "File \u001b[1;32mindex.pyx:196\u001b[0m, in \u001b[0;36mpandas._libs.index.IndexEngine.get_loc\u001b[1;34m()\u001b[0m\n",
      "File \u001b[1;32mpandas\\\\_libs\\\\hashtable_class_helper.pxi:7081\u001b[0m, in \u001b[0;36mpandas._libs.hashtable.PyObjectHashTable.get_item\u001b[1;34m()\u001b[0m\n",
      "File \u001b[1;32mpandas\\\\_libs\\\\hashtable_class_helper.pxi:7089\u001b[0m, in \u001b[0;36mpandas._libs.hashtable.PyObjectHashTable.get_item\u001b[1;34m()\u001b[0m\n",
      "\u001b[1;31mKeyError\u001b[0m: 'Value0'",
      "\nThe above exception was the direct cause of the following exception:\n",
      "\u001b[1;31mKeyError\u001b[0m                                  Traceback (most recent call last)",
      "Cell \u001b[1;32mIn[11], line 5\u001b[0m\n\u001b[0;32m      1\u001b[0m \u001b[38;5;66;03m# Sometimes additional preprocessing might be required. As an example, when calculating heart rate from the ECG raw signal.\u001b[39;00m\n\u001b[0;32m      3\u001b[0m \u001b[38;5;28;01mfrom\u001b[39;00m \u001b[38;5;21;01mpluma\u001b[39;00m\u001b[38;5;21;01m.\u001b[39;00m\u001b[38;5;21;01mpreprocessing\u001b[39;00m\u001b[38;5;21;01m.\u001b[39;00m\u001b[38;5;21;01mecg\u001b[39;00m \u001b[38;5;28;01mimport\u001b[39;00m heartrate_from_ecg\n\u001b[1;32m----> 5\u001b[0m hr,_ \u001b[38;5;241m=\u001b[39m heartrate_from_ecg(dataset\u001b[38;5;241m.\u001b[39mstreams\u001b[38;5;241m.\u001b[39mBioData\u001b[38;5;241m.\u001b[39mECG,\n\u001b[0;32m      6\u001b[0m                                          fs \u001b[38;5;241m=\u001b[39m \u001b[38;5;241m250\u001b[39m, max_heartrate_bpm \u001b[38;5;241m=\u001b[39m \u001b[38;5;241m250.0\u001b[39m,\n\u001b[0;32m      7\u001b[0m                                         peak_height \u001b[38;5;241m=\u001b[39m \u001b[38;5;241m800\u001b[39m, smooth_win \u001b[38;5;241m=\u001b[39m \u001b[38;5;241m10\u001b[39m) \u001b[38;5;66;03m## Calculates HR from ecg raw signal\u001b[39;00m\n\u001b[0;32m      9\u001b[0m resampled \u001b[38;5;241m=\u001b[39m resample_temporospatial(hr, dataset\u001b[38;5;241m.\u001b[39mgeoreference,\n\u001b[0;32m     10\u001b[0m                                            sampling_dt \u001b[38;5;241m=\u001b[39m datetime\u001b[38;5;241m.\u001b[39mtimedelta(seconds \u001b[38;5;241m=\u001b[39m \u001b[38;5;241m4\u001b[39m)) \u001b[38;5;66;03m#Resample\u001b[39;00m\n\u001b[0;32m     11\u001b[0m fig \u001b[38;5;241m=\u001b[39m showmap(resampled, figsize\u001b[38;5;241m=\u001b[39m(\u001b[38;5;241m10\u001b[39m,\u001b[38;5;241m10\u001b[39m), cmap \u001b[38;5;241m=\u001b[39m \u001b[38;5;124m'\u001b[39m\u001b[38;5;124mbrg\u001b[39m\u001b[38;5;124m'\u001b[39m, markersize \u001b[38;5;241m=\u001b[39m \u001b[38;5;241m20\u001b[39m ,\n\u001b[0;32m     12\u001b[0m                                            tiles \u001b[38;5;241m=\u001b[39m tmb\u001b[38;5;241m.\u001b[39mtiles\u001b[38;5;241m.\u001b[39mStamen_Toner_Hybrid)\n",
      "File \u001b[1;32mc:\\git\\JoaoAmaro2001\\notebooks\\.conda\\Lib\\site-packages\\pluma\\preprocessing\\ecg.py:29\u001b[0m, in \u001b[0;36mheartrate_from_ecg\u001b[1;34m(ecg_data_stream, fs, skip_slice, max_heartrate_bpm, peak_height, smooth_win, invert)\u001b[0m\n\u001b[0;32m     27\u001b[0m \u001b[38;5;28;01mif\u001b[39;00m invert:\n\u001b[0;32m     28\u001b[0m     ecg \u001b[38;5;241m=\u001b[39m ecg \u001b[38;5;241m*\u001b[39m (\u001b[38;5;241m-\u001b[39m\u001b[38;5;241m1.0\u001b[39m)\n\u001b[1;32m---> 29\u001b[0m ecg \u001b[38;5;241m=\u001b[39m ecg[\u001b[38;5;124m\"\u001b[39m\u001b[38;5;124mValue0\u001b[39m\u001b[38;5;124m\"\u001b[39m]\u001b[38;5;241m.\u001b[39miloc[np\u001b[38;5;241m.\u001b[39marange(\u001b[38;5;28mlen\u001b[39m(ecg))[::skip_slice]]\u001b[38;5;241m.\u001b[39mastype(np\u001b[38;5;241m.\u001b[39mfloat64) \u001b[38;5;66;03m# sensor acquires at 250hz but saves at 1khz\u001b[39;00m\n\u001b[0;32m     31\u001b[0m resampled \u001b[38;5;241m=\u001b[39m utils\u001b[38;5;241m.\u001b[39mbutter_highpass_filter(ecg,\u001b[38;5;241m5\u001b[39m,fs)\n\u001b[0;32m     33\u001b[0m \u001b[38;5;66;03m#Assume maximum heartrate of max_heartrate_bpm\u001b[39;00m\n",
      "File \u001b[1;32mc:\\git\\JoaoAmaro2001\\notebooks\\.conda\\Lib\\site-packages\\pandas\\core\\frame.py:4090\u001b[0m, in \u001b[0;36mDataFrame.__getitem__\u001b[1;34m(self, key)\u001b[0m\n\u001b[0;32m   4088\u001b[0m \u001b[38;5;28;01mif\u001b[39;00m \u001b[38;5;28mself\u001b[39m\u001b[38;5;241m.\u001b[39mcolumns\u001b[38;5;241m.\u001b[39mnlevels \u001b[38;5;241m>\u001b[39m \u001b[38;5;241m1\u001b[39m:\n\u001b[0;32m   4089\u001b[0m     \u001b[38;5;28;01mreturn\u001b[39;00m \u001b[38;5;28mself\u001b[39m\u001b[38;5;241m.\u001b[39m_getitem_multilevel(key)\n\u001b[1;32m-> 4090\u001b[0m indexer \u001b[38;5;241m=\u001b[39m \u001b[38;5;28mself\u001b[39m\u001b[38;5;241m.\u001b[39mcolumns\u001b[38;5;241m.\u001b[39mget_loc(key)\n\u001b[0;32m   4091\u001b[0m \u001b[38;5;28;01mif\u001b[39;00m is_integer(indexer):\n\u001b[0;32m   4092\u001b[0m     indexer \u001b[38;5;241m=\u001b[39m [indexer]\n",
      "File \u001b[1;32mc:\\git\\JoaoAmaro2001\\notebooks\\.conda\\Lib\\site-packages\\pandas\\core\\indexes\\base.py:3812\u001b[0m, in \u001b[0;36mIndex.get_loc\u001b[1;34m(self, key)\u001b[0m\n\u001b[0;32m   3807\u001b[0m     \u001b[38;5;28;01mif\u001b[39;00m \u001b[38;5;28misinstance\u001b[39m(casted_key, \u001b[38;5;28mslice\u001b[39m) \u001b[38;5;129;01mor\u001b[39;00m (\n\u001b[0;32m   3808\u001b[0m         \u001b[38;5;28misinstance\u001b[39m(casted_key, abc\u001b[38;5;241m.\u001b[39mIterable)\n\u001b[0;32m   3809\u001b[0m         \u001b[38;5;129;01mand\u001b[39;00m \u001b[38;5;28many\u001b[39m(\u001b[38;5;28misinstance\u001b[39m(x, \u001b[38;5;28mslice\u001b[39m) \u001b[38;5;28;01mfor\u001b[39;00m x \u001b[38;5;129;01min\u001b[39;00m casted_key)\n\u001b[0;32m   3810\u001b[0m     ):\n\u001b[0;32m   3811\u001b[0m         \u001b[38;5;28;01mraise\u001b[39;00m InvalidIndexError(key)\n\u001b[1;32m-> 3812\u001b[0m     \u001b[38;5;28;01mraise\u001b[39;00m \u001b[38;5;167;01mKeyError\u001b[39;00m(key) \u001b[38;5;28;01mfrom\u001b[39;00m \u001b[38;5;21;01merr\u001b[39;00m\n\u001b[0;32m   3813\u001b[0m \u001b[38;5;28;01mexcept\u001b[39;00m \u001b[38;5;167;01mTypeError\u001b[39;00m:\n\u001b[0;32m   3814\u001b[0m     \u001b[38;5;66;03m# If we have a listlike key, _check_indexing_error will raise\u001b[39;00m\n\u001b[0;32m   3815\u001b[0m     \u001b[38;5;66;03m#  InvalidIndexError. Otherwise we fall through and re-raise\u001b[39;00m\n\u001b[0;32m   3816\u001b[0m     \u001b[38;5;66;03m#  the TypeError.\u001b[39;00m\n\u001b[0;32m   3817\u001b[0m     \u001b[38;5;28mself\u001b[39m\u001b[38;5;241m.\u001b[39m_check_indexing_error(key)\n",
      "\u001b[1;31mKeyError\u001b[0m: 'Value0'"
     ]
    }
   ],
   "source": [
    "# Sometimes additional preprocessing might be required. As an example, when calculating heart rate from the ECG raw signal.\n",
    "\n",
    "from pluma.preprocessing.ecg import heartrate_from_ecg\n",
    "\n",
    "hr,_ = heartrate_from_ecg(dataset.streams.BioData.ECG,\n",
    "                                         fs = 250, max_heartrate_bpm = 250.0,\n",
    "                                        peak_height = 800, smooth_win = 10) ## Calculates HR from ecg raw signal\n",
    "\n",
    "resampled = resample_temporospatial(hr, dataset.georeference,\n",
    "                                           sampling_dt = datetime.timedelta(seconds = 4)) #Resample\n",
    "fig = showmap(resampled, figsize=(10,10), cmap = 'brg', markersize = 20 ,\n",
    "                                           tiles = tmb.tiles.Stamen_Toner_Hybrid)\n",
    "fig.get_axes()[0].set_title(dataset.datasetlabel)\n",
    "fig.show()\n",
    "\n",
    "## Plot it in time for comparison\n",
    "fig, axs = plt.subplots(2,2)\n",
    "fig.set_size_inches((10,4))\n",
    "axs[0,0].plot(resampled.Data,  c = [0.1, 0.1, 0.1], lw = 0.5)\n",
    "axs[0,0].set_xlabel('Time')\n",
    "axs[0,0].set_ylabel('HR (BPM)')\n",
    "\n",
    "axs[0,1].plot(dataset.streams.Accelerometer.data[\"Accl.X\"], c = [0.1, 0.1, 0.1], lw = 0.5)\n",
    "axs[0,1].set_xlabel('Time')\n",
    "axs[0,1].set_ylabel('Acceleration (G)')\n",
    "\n",
    "## Plot it in time for comparison\n",
    "axs[1,0].plot(dataset.streams.TK.AirQuality.Temperature.data/100,  c = [0.1, 0.1, 0.1], lw = 0.5)\n",
    "axs[1,0].set_xlabel('Time')\n",
    "axs[1,0].set_ylabel('Temperature (C)')\n",
    "\n",
    "axs[1,1].plot(dataset.streams.Accelerometer.data[\"Orientation.X\"],  c = [0.1, 0.1, 0.1], lw = 0.5)\n",
    "axs[1,1].set_xlabel('Time')\n",
    "axs[1,1].set_ylabel('Torso orientation (Deg)')\n",
    "\n",
    "fig.show()"
   ]
  },
  {
   "cell_type": "code",
   "execution_count": null,
   "metadata": {},
   "outputs": [],
   "source": [
    "## Comparison of HR given by Empatica and raw ECG signal:\n",
    "plt.figure(figsize=(15,6))\n",
    "plt.plot(hr, label = 'ECG')\n",
    "plt.plot(dataset.streams.Empatica.data.E4_Hr['Value'], label = 'Empatica')\n",
    "plt.xlabel(\"Time\")\n",
    "plt.ylabel(\"HR(bpm)\")\n",
    "plt.legend()\n",
    "plt.show()"
   ]
  },
  {
   "cell_type": "code",
   "execution_count": null,
   "metadata": {},
   "outputs": [],
   "source": [
    "dataset.streams.Empatica.data.R"
   ]
  },
  {
   "cell_type": "code",
   "execution_count": null,
   "metadata": {},
   "outputs": [],
   "source": [
    "## Export streams to csv\n",
    "dataset.streams.TK.AirQuality.Temperature.export_to_csv(\"root\")\n"
   ]
  }
 ],
 "metadata": {
  "kernelspec": {
   "display_name": "Python 3.9.7 ('ecities')",
   "language": "python",
   "name": "python3"
  },
  "language_info": {
   "codemirror_mode": {
    "name": "ipython",
    "version": 3
   },
   "file_extension": ".py",
   "mimetype": "text/x-python",
   "name": "python",
   "nbconvert_exporter": "python",
   "pygments_lexer": "ipython3",
   "version": "3.11.9"
  },
  "orig_nbformat": 4,
  "vscode": {
   "interpreter": {
    "hash": "48653fe3dda52384a74b4629056b2ddac10114526fe1f868c0a7cdd8bc2dd6c3"
   }
  }
 },
 "nbformat": 4,
 "nbformat_minor": 2
}
