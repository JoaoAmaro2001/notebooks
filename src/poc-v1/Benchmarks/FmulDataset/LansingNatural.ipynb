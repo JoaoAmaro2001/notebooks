{
 "cells": [
  {
   "cell_type": "code",
   "execution_count": null,
   "metadata": {},
   "outputs": [],
   "source": [
    "import matplotlib.pyplot as plt\n",
    "import datetime\n",
    "import tilemapbase as tmb\n",
    "from pathlib import Path\n",
    "import numpy as np\n",
    "\n",
    "from pluma.export.ogcapi.features import export_geoframe_to_geojson\n",
    "from pluma.export.ogcapi.records import DatasetRecord, RecordProperties, Contact\n",
    "from pluma.stream.georeference import Georeference\n",
    "from pluma.stream.ubx import _UBX_MSGIDS\n",
    "from pluma.schema import Dataset\n",
    "from FmulSchema import custom_schema\n",
    "from helpers import *\n",
    "\n",
    "## Notebook plotting\n",
    "%matplotlib inline\n",
    "plt.style.use('ggplot')\n",
    "\n",
    "## Figure export parameters\n",
    "new_rc_params = {'text.usetex': False,\n",
    "\"svg.fonttype\": 'none'\n",
    "}\n",
    "import matplotlib as mpl\n",
    "mpl.rcParams.update(new_rc_params)\n"
   ]
  },
  {
   "cell_type": "markdown",
   "metadata": {},
   "source": [
    "# Set the paths to the dataset and build the dataset"
   ]
  },
  {
   "cell_type": "code",
   "execution_count": null,
   "metadata": {},
   "outputs": [],
   "source": [
    "# Path to the dataset. Can be local or remote.\n",
    "dataset_root = r\"C:\\Users\\gonca\\NeuroGEARS Ltd\\Emotional Cities - Documents\\Experiment Control and Acquisition\\Datasets\"\n",
    "root = r\"\\Lansing\\NorthNatural\\Lansing_NorthNatural_sub-OE036001_2023-09-07T161930Z\"\n",
    "\n",
    "dataset = load_dataset(f\"{dataset_root}{root}\", schema=custom_schema)\n",
    "print(f\"Dataset: {dataset} loaded successfully, and {'not' if not dataset.has_calibration else 'sucessfully'} calibrated.\" )"
   ]
  },
  {
   "cell_type": "markdown",
   "metadata": {},
   "source": [
    "## Export to SDI geoframe"
   ]
  },
  {
   "cell_type": "code",
   "execution_count": null,
   "metadata": {},
   "outputs": [],
   "source": [
    "gdf = dataset.to_geoframe(rereference_to_ubx_time=True)"
   ]
  },
  {
   "attachments": {},
   "cell_type": "markdown",
   "metadata": {},
   "source": [
    "## Dataset structure\n",
    "The Dataset class follows the following structure:\n",
    "```\n",
    "Dataset/\n",
    "├─ rootfolder\n",
    "├─ datasetlabel\n",
    "├─ streams/\n",
    "├─ georeference/\n",
    "```\n",
    "\n",
    " - `rootfolder` and `datasetlabel` are properties that store the location and label of the dataset, respectively.\n",
    " - `streams` is a `DotMap` structure with the initialized schema and, if loaded, all the data. The data of each stream can be generally accessed using `dataset.Stream.data`. Additionally, the Streams can be easily navigated using the \".\" (dot) notation to access different, potentially nested, relevant fields.\n",
    " - `georeference` stores the DataFrame necessary to \"geotag\" sensor data (*i.e.* to cross-reference in time)"
   ]
  },
  {
   "cell_type": "code",
   "execution_count": null,
   "metadata": {},
   "outputs": [],
   "source": [
    "# For simplicity a general method can be used to attempt to plot the data inside a stream:\n",
    "plot_stream(dataset.streams.TK.AirQuality.IAQIndex)"
   ]
  },
  {
   "attachments": {},
   "cell_type": "markdown",
   "metadata": {},
   "source": [
    "## Visualization:\n",
    "\n",
    "We are not in a position where we can visualize data in both time and space. The following cells will demo this affordance."
   ]
  },
  {
   "cell_type": "code",
   "execution_count": null,
   "metadata": {},
   "outputs": [],
   "source": [
    "# The first time you run tilemapbase library, you will need to initiate a cache structure\n",
    "# Initialize tilemapbase cache (run this only once)\n",
    "if True:\n",
    "    import tilemapbase as tmb\n",
    "    tmb.init(create=True)\n",
    "plot_kwargs = {\n",
    "    'markersize': 5,\n",
    "    'to_aspect': (4/3),\n",
    "    'figsize': (10,10),\n",
    "    'tiles': tmb.tiles.build_OSM()\n",
    "}"
   ]
  },
  {
   "cell_type": "code",
   "execution_count": null,
   "metadata": {},
   "outputs": [],
   "source": [
    "# First we will plot the spatial data colorcoded by time\n",
    "plot_path(dataset, **plot_kwargs)"
   ]
  },
  {
   "cell_type": "code",
   "execution_count": null,
   "metadata": {},
   "outputs": [],
   "source": [
    "# plot resampled data in time and space using a dataset georeference. By default, it resamples the data to 2s bins\n",
    "resampled = resample_temporospatial(dataset.streams.TK.AirQuality.IAQIndex.data, dataset.georeference)\n",
    "plot_geospatial(resampled, **plot_kwargs, title='Air Quality Index')"
   ]
  },
  {
   "cell_type": "code",
   "execution_count": null,
   "metadata": {},
   "outputs": [],
   "source": [
    "# Sometimes additional preprocessing might be required. As an example, when calculating heart rate from the ECG raw signal.\n",
    "from pluma.preprocessing.ecg import heartrate_from_ecg\n",
    "\n",
    "hr,_ = heartrate_from_ecg(dataset.streams.BioData.ECG,\n",
    "                                         fs = 250, max_heartrate_bpm = 250.0,\n",
    "                                        peak_height = 800, smooth_win = 10) ## Calculates HR from ecg raw signal\n",
    "resampled = resample_temporospatial(hr, dataset.georeference,\n",
    "                                    sampling_dt = datetime.timedelta(seconds = 4)) #Resample\n",
    "\n",
    "segment_colors = np.array(['red', 'green', 'magenta', 'black', 'blue'])\n",
    "hr_kwargs = { **plot_kwargs, 'cmap': 'brg', 'markersize': 10 }\n",
    "\n",
    "# marker_segments = eeg_segments(dataset)\n",
    "marker_segments = periodic_segments(dataset).iloc[:-1]\n",
    "\n",
    "path_segments = marker_segments.reindex(dataset.georeference.elevation.index, method='pad')\n",
    "plot_path(dataset, colorscale_override=segment_colors[path_segments.MarkerIdx], **plot_kwargs)\n",
    "\n",
    "segments = [(x, segment_colors[idx % len(segment_colors)])\n",
    "            for (x, idx) in marker_segments.reset_index().values]\n",
    "\n",
    "traces = {\n",
    "    'bpm': resampled.Data,\n",
    "    'accelX': dataset.streams.Accelerometer.data[\"Accl_X\"],\n",
    "    'temp (C)': dataset.streams.TK.AirQuality.Temperature.data/100,\n",
    "    'angleX': dataset.streams.Accelerometer.data[\"Orientation_X\"],\n",
    "    'altitude': dataset.georeference.elevation,\n",
    "    'iaq': dataset.streams.TK.AirQuality.IAQIndex.data,\n",
    "    'eeg': dataset.streams.EEG.data\n",
    "}\n",
    "\n",
    "plot_traces(traces, segments, figsize=(4,8))"
   ]
  },
  {
   "cell_type": "code",
   "execution_count": null,
   "metadata": {},
   "outputs": [],
   "source": [
    "# Raw EEG traces\n",
    "plt.figure(figsize=(15,6))\n",
    "eeg_data = dataset.streams.EEG.data\n",
    "plt.plot(eeg_data.np_time, eeg_data.np_eeg, lw = 0.5)\n",
    "plt.show()"
   ]
  },
  {
   "cell_type": "code",
   "execution_count": null,
   "metadata": {},
   "outputs": [],
   "source": [
    "# load and reindex pupil gaze data\n",
    "gaze = load_pupilgaze(dataset)\n",
    "vgaze = reindex_pupilgaze(dataset, gaze)\n",
    "video = load_pupilvideo(dataset)\n",
    "vgaze"
   ]
  },
  {
   "cell_type": "code",
   "execution_count": null,
   "metadata": {},
   "outputs": [],
   "source": [
    "## Comparison of HR given by Empatica and raw ECG signal:\n",
    "plt.figure(figsize=(15,6))\n",
    "plt.plot(hr, label = 'ECG')\n",
    "plt.plot(dataset.streams.Empatica.data.E4_Hr['Value'], label = 'Empatica')\n",
    "plt.xlabel(\"Time\")\n",
    "plt.ylabel(\"HR(bpm)\")\n",
    "plt.legend()\n",
    "plt.show()"
   ]
  },
  {
   "cell_type": "code",
   "execution_count": null,
   "metadata": {},
   "outputs": [],
   "source": [
    "dataset.streams.Empatica.data.R"
   ]
  },
  {
   "cell_type": "code",
   "execution_count": null,
   "metadata": {},
   "outputs": [],
   "source": [
    "## Export streams to csv\n",
    "dataset.streams.TK.AirQuality.Temperature.export_to_csv(\"root\")\n"
   ]
  }
 ],
 "metadata": {
  "kernelspec": {
   "display_name": "Python 3.9.7 ('ecities')",
   "language": "python",
   "name": "python3"
  },
  "language_info": {
   "codemirror_mode": {
    "name": "ipython",
    "version": 3
   },
   "file_extension": ".py",
   "mimetype": "text/x-python",
   "name": "python",
   "nbconvert_exporter": "python",
   "pygments_lexer": "ipython3",
   "version": "3.9.17"
  },
  "orig_nbformat": 4,
  "vscode": {
   "interpreter": {
    "hash": "48653fe3dda52384a74b4629056b2ddac10114526fe1f868c0a7cdd8bc2dd6c3"
   }
  }
 },
 "nbformat": 4,
 "nbformat_minor": 2
}
