{
 "cells": [
  {
   "cell_type": "markdown",
   "metadata": {},
   "source": [
    "# Inspecting datastreams\n",
    "\n",
    "Goal is to find the nature of the data, and inspect the timestamps and rates of incoming data streams"
   ]
  },
  {
   "cell_type": "code",
   "execution_count": null,
   "metadata": {},
   "outputs": [],
   "source": [
    "import matplotlib.pyplot as plt\n",
    "import datetime\n",
    "import tilemapbase as tmb\n",
    "import numpy as np\n",
    "import pandas as pd\n",
    "from pluma.stream.georeference import Georeference\n",
    "from pluma.stream.ubx import _UBX_MSGIDS\n",
    "from pluma.schema import Dataset\n",
    "from IPython.display import clear_output\n",
    "from FmulSchema import custom_schema\n",
    "\n",
    "\n",
    "## Notebook plotting\n",
    "%matplotlib inline\n",
    "%matplotlib widget\n",
    "\n",
    "plt.style.use('ggplot')\n",
    "\n",
    "## Figure export parameters\n",
    "new_rc_params = {'text.usetex': False,\n",
    "\"svg.fonttype\": 'none'\n",
    "}\n",
    "import matplotlib as mpl\n",
    "mpl.rcParams.update(new_rc_params)"
   ]
  },
  {
   "cell_type": "markdown",
   "metadata": {},
   "source": [
    "## Check the errors in the code below when if below load from remote is True \n",
    "Another point is that environment.yaml should have specific versions of libraries that we are loading \n",
    "We need to update readme.md in order to explain how to get data from aws"
   ]
  },
  {
   "cell_type": "markdown",
   "metadata": {},
   "source": [
    "# Set the paths to the dataset and build the dataset"
   ]
  },
  {
   "cell_type": "code",
   "execution_count": null,
   "metadata": {},
   "outputs": [],
   "source": [
    "LOAD_FROM_REMOTE = True\n",
    "root = r\"C:\\Users\\YourName\\Desktop\"\n",
    "\n",
    "stream_root_folder = 's3://emotional-cities/data/nrg/poc-v1/FMUL/FMUL2022_10_21_11_20_53/'  # Path to the dataset. Can be local or remote.\n",
    "\n",
    "#dataset = Dataset(stream_root_folder, datasetlabel=\"FMUL_\" + stream_root_folder.split(\"\\\\\")[-1], georeference= Georeference())  # Create a Dataset object that will contain the ingested data.\n",
    "dataset = Dataset(\n",
    "    stream_root_folder,\n",
    "    datasetlabel=\"FMUL_\" + stream_root_folder.split(\"\\\\\")[-1],\n",
    "    georeference= Georeference(),\n",
    "    schema=custom_schema)\n",
    "dataset.populate_streams(autoload=False)  # Add the \"schema\" that we want to load to our Dataset. If we want to load the whole dataset automatically, set autoload to True.\n",
    "\n",
    "if LOAD_FROM_REMOTE:\n",
    "# To load a single stream, we can set the autoload property to \"True\" and use the Dataset.reload_streams method. In this case, we will load all streams by default\n",
    "    if False:\n",
    "        dataset.streams.EEG.autoload = True\n",
    "        dataset.streams.UBX.autoload = True\n",
    "        dataset.reload_streams(force_load=False)\n",
    "    # For now, we will build the whole dataset:\n",
    "    else:\n",
    "        dataset.reload_streams(force_load=True)  # We will just load every single stream at the same time. This might take a while if loading from AWS\n",
    "        dataset.add_georeference_and_calibrate()\n",
    "        dataset.export_dataset(filename=f\"{root}\\dataset.pickle\") # We can export the dataset as a .pickle file.\n",
    "\n",
    "    # Some warnings will be printed if some sensors were not acquired during the experiment. These are normal and can be usually ignored.\n",
    "\n",
    "# In order to not having to run this routine multiple times, the output of the ingestion can be saved as a pickle file to be loaded later. E.g.:\n",
    "else:\n",
    "    dataset = Dataset.import_dataset(f\"{root}\\dataset.pickle\")  # ... and reimport it at a later point.\n",
    "\n",
    "print(f\"Dataset: {dataset} loaded successfully, and {'not' if not dataset.has_calibration else 'sucessfully'} calibrated.\" )\n",
    "\n"
   ]
  },
  {
   "cell_type": "markdown",
   "metadata": {},
   "source": [
    "Define function to find the basic statistics and plot the difference between adjacent timestamps"
   ]
  },
  {
   "cell_type": "code",
   "execution_count": null,
   "metadata": {},
   "outputs": [],
   "source": [
    "def diff_stats(stream, start = 100, end = 200, xlabel = 'Time', ylabel = ''):\n",
    "    try:\n",
    "        diff_series = stream.data.index.to_series().diff().dropna().astype(np.int64)  / int(1e6)\n",
    "        mini = diff_series[1:].min()\n",
    "        maxi = diff_series[1:].max()\n",
    "        meani = diff_series[1:].mean()\n",
    "        medi = diff_series[1:].median()\n",
    "        print(f'Minimum = {mini}; Maximum = {maxi}; Mean = {meani}; Median = {medi}; FrameRate = {1000/medi}') \n",
    "        # names = stream.data.columns\n",
    "        \n",
    "        plt.figure()\n",
    "        plt.plot(diff_series)\n",
    "        plt.title(stream.streamlabel + ' Difference')\n",
    "        plt.ylabel('Time Difference (ms)')\n",
    "        plt.xlabel(stream.data.index.name)\n",
    "        \n",
    "        # plt.figure()\n",
    "        # plt.title('Data')\n",
    "        stream.data.plot(title = stream.streamlabel)\n",
    "\n",
    "        # plt.plot(data)\n",
    "        # plt.title('Data')\n",
    "        # plt.ylabel(ylabel)\n",
    "        # plt.xlabel(xlabel)\n",
    "\n",
    "        print(diff_series[start:end])\n",
    "    except:\n",
    "        clear_output(wait=False)\n",
    "    return diff_series\n",
    "\n",
    "def diff_stats_data_frame(stream, start = 100, end = 200, xlabel = 'Time', ylabel = '', label=' '):\n",
    "    stream = stream.select_dtypes(include=np.number)\n",
    "    diff_series = stream.index.to_series().diff().dropna().astype(np.int64)  / int(1e6)\n",
    "    mini = diff_series[1:].min()\n",
    "    maxi = diff_series[1:].max()\n",
    "    meani = diff_series[1:].mean()\n",
    "    medi = diff_series[1:].median()\n",
    "    print(f'Minimum = {mini}; Maximum = {maxi}; Mean = {meani}; Median = {medi}; FrameRate = {1000/medi}') \n",
    "    # names = stream.data.columns\n",
    "    \n",
    "    plt.figure()\n",
    "    plt.plot(diff_series)\n",
    "    plt.title(label + ' Difference')\n",
    "    plt.ylabel('Time Difference (ms)')\n",
    "    plt.xlabel(stream.index.name)\n",
    "    \n",
    "    #plt.figure()\n",
    "    stream.plot(title = label)\n",
    "    print(diff_series[start:end])\n",
    "\n",
    "    return diff_series\n",
    "\n",
    "def diff_stats_empatica(stream, start = 100, end = 200, xlabel = 'Time', ylabel = '', label=' '):\n",
    "    stream.reset_index(inplace=True)\n",
    "    stream.set_index('E4_Seconds', inplace=True)\n",
    "    stream = stream.select_dtypes(include=np.number)\n",
    "    diff_series = stream.index.to_series().diff().dropna().astype(np.int64)  / int(1e6)\n",
    "    mini = diff_series[1:].min()\n",
    "    maxi = diff_series[1:].max()\n",
    "    meani = diff_series[1:].mean()\n",
    "    medi = diff_series[1:].median()\n",
    "    print(f'Minimum = {mini}; Maximum = {maxi}; Mean = {meani}; Median = {medi}; FrameRate = {1000/medi}') \n",
    "    # names = stream.data.columns\n",
    "    \n",
    "    plt.figure()\n",
    "    plt.plot(diff_series)\n",
    "    plt.title(label + ' Difference')\n",
    "    plt.ylabel('Time Difference (ms)')\n",
    "    plt.xlabel(stream.index.name)\n",
    "    \n",
    "    #plt.figure()\n",
    "    stream.plot(title = label)\n",
    "    print(diff_series[start:end])\n",
    "\n",
    "    return diff_series\n"
   ]
  },
  {
   "cell_type": "markdown",
   "metadata": {},
   "source": [
    "### Check basic statistics and plot timestamp difference\n",
    "\n",
    "[ECG](https://neurogears.sharepoint.com/:b:/s/EmotionalCities/EYOX02N88hRHnUCdREf_kq0BEoxvZY92nHfPOPZmq7Ua3Q?e=xWQPvN) 1KHz\n"
   ]
  },
  {
   "cell_type": "code",
   "execution_count": null,
   "metadata": {},
   "outputs": [],
   "source": [
    "ecg = dataset.streams.BioData.ECG\n",
    "# ecg.streamlabel\n",
    "diff_stats(ecg)\n"
   ]
  },
  {
   "cell_type": "markdown",
   "metadata": {},
   "source": [
    "Microphone \n",
    "\n",
    "Microphone has two streams currently captured data is being done at 44100 kHz with buffers od 0.1 ms which means that every buffer has 5 samples\n",
    " 1. The timestamps for each buffer sample \n",
    " 2. Each buffer data "
   ]
  },
  {
   "cell_type": "code",
   "execution_count": null,
   "metadata": {},
   "outputs": [],
   "source": [
    "audio_timestamps = dataset.streams.Microphone.BufferIndex\n",
    "diff_stats(audio_timestamps)"
   ]
  },
  {
   "cell_type": "code",
   "execution_count": null,
   "metadata": {},
   "outputs": [],
   "source": [
    "audio_data = dataset.streams.Microphone.Audio.data\n",
    "number_of_audio_buffers = audio_data.shape[0]/5\n",
    "\n",
    "unique_set = sorted(set(pd.DataFrame(audio_timestamps.data).index))"
   ]
  },
  {
   "cell_type": "code",
   "execution_count": null,
   "metadata": {},
   "outputs": [],
   "source": [
    "print('Difference between number of audio timestamps and number of audio buffers')\n",
    "print(number_of_audio_buffers - audio_timestamps.data.shape[0])\n",
    "print(f'audio_timestamps = {audio_timestamps.data.shape[0]}')\n",
    "print(f'number_of_audio_buffers = {number_of_audio_buffers}')\n",
    "print('Unique Timestamps :')\n",
    "unique_set"
   ]
  },
  {
   "cell_type": "markdown",
   "metadata": {},
   "source": [
    "## Tinkerforge GPS V2\n",
    "From [tinkerforge webpage](https://www.tinkerforge.com/en/doc/Hardware/Bricklets/GPS_V2.html)\n",
    "Supports GPS and GLONASS simultaneously\n",
    "Receives movement-, position-, altitude, time data and PPS signal\n",
    "Elevation, azimuth and SNR for each GPS/GLONASS satellite accessible  \n",
    "99 channels  \n",
    "The rate is 10Hz  \n",
    "\n",
    " - Latitude \n",
    " - Longitude \n",
    " - Altitude\n",
    " - Date \n",
    " - Time\n",
    " - Has Fix\n"
   ]
  },
  {
   "cell_type": "markdown",
   "metadata": {},
   "source": [
    "### Latitude \n",
    "Is only measured when GPS receives satellite signals"
   ]
  },
  {
   "cell_type": "code",
   "execution_count": null,
   "metadata": {},
   "outputs": [],
   "source": [
    "tk_latitude = dataset.streams.TK.GPS.Latitude \n",
    "diff_stats(tk_latitude)"
   ]
  },
  {
   "cell_type": "markdown",
   "metadata": {},
   "source": [
    "### Longitude  \n",
    "Is only measured when GPS receives satellite signals"
   ]
  },
  {
   "cell_type": "code",
   "execution_count": null,
   "metadata": {},
   "outputs": [],
   "source": [
    "tk_longitude = dataset.streams.TK.GPS.Longitude \n",
    "diff_stats(tk_longitude)"
   ]
  },
  {
   "cell_type": "markdown",
   "metadata": {},
   "source": [
    "### Altitude  \n",
    "Is only measured when GPS receives satellite signals"
   ]
  },
  {
   "cell_type": "code",
   "execution_count": null,
   "metadata": {},
   "outputs": [],
   "source": [
    "tk_altitude = dataset.streams.TK.GPS.Longitude \n",
    "diff_stats(tk_altitude)"
   ]
  },
  {
   "cell_type": "markdown",
   "metadata": {},
   "source": [
    "### Date of the day  \n",
    "Currently named Data (should be renamed to date)"
   ]
  },
  {
   "cell_type": "code",
   "execution_count": null,
   "metadata": {},
   "outputs": [],
   "source": [
    "tk_date = dataset.streams.TK.GPS.Data \n",
    "diff_stats(tk_date)"
   ]
  },
  {
   "cell_type": "markdown",
   "metadata": {},
   "source": [
    "### Time \n",
    "hours minutes and seconds of the day"
   ]
  },
  {
   "cell_type": "code",
   "execution_count": null,
   "metadata": {},
   "outputs": [],
   "source": [
    "tk_time = dataset.streams.TK.GPS.Time \n",
    "diff_stats(tk_time)"
   ]
  },
  {
   "cell_type": "markdown",
   "metadata": {},
   "source": [
    "### HasFix  \n",
    "Means that GPS has a position info from the satellites"
   ]
  },
  {
   "cell_type": "code",
   "execution_count": null,
   "metadata": {},
   "outputs": [],
   "source": [
    "tk_has_fix = dataset.streams.TK.GPS.HasFix \n",
    "diff_stats(tk_has_fix)"
   ]
  },
  {
   "cell_type": "markdown",
   "metadata": {},
   "source": [
    "## Air quality \n",
    "From [tinkerforge webpage](https://www.tinkerforge.com/en/doc/Hardware/Bricklets/Air_Quality.html)\n",
    "Measures IAQ (indoor air quality) index, air pressure, humidity and temperature\n",
    "IAQ index and humidity values are temperature compensated  \n",
    "Configurable temperature compensation for use cases in enclosures\n",
    " - IAQ (indoor air quality) index\n",
    " - Temperature in °C\n",
    " - Humidity in %RH\n",
    " - Air pressure in hPa  \n",
    "\n"
   ]
  },
  {
   "cell_type": "markdown",
   "metadata": {},
   "source": [
    "### IAQ (indoor air quality) index  \n",
    "The IAQ index is dependent on the other measures in this sensor.  \n",
    "It has a range of 0-500  \n",
    "The rate is 10 Hz"
   ]
  },
  {
   "cell_type": "code",
   "execution_count": null,
   "metadata": {},
   "outputs": [],
   "source": [
    "tk_air_quality = dataset.streams.TK.AirQuality.IAQIndex\n",
    "diff_stats(tk_air_quality)"
   ]
  },
  {
   "cell_type": "markdown",
   "metadata": {},
   "source": [
    "### Temperature \n",
    "Measured in °C"
   ]
  },
  {
   "cell_type": "code",
   "execution_count": null,
   "metadata": {},
   "outputs": [],
   "source": [
    "tk_temperature = dataset.streams.TK.AirQuality.Temperature\n",
    "diff_stats(tk_temperature)"
   ]
  },
  {
   "cell_type": "markdown",
   "metadata": {},
   "source": [
    "### Humidity  \n",
    "Measured in %RH (relative humidity)"
   ]
  },
  {
   "cell_type": "code",
   "execution_count": null,
   "metadata": {},
   "outputs": [],
   "source": [
    "tk_humidity = dataset.streams.TK.AirQuality.Humidity\n",
    "diff_stats(tk_humidity)"
   ]
  },
  {
   "cell_type": "markdown",
   "metadata": {},
   "source": [
    "### Air pressure  \n",
    "Measured in hPa (hectoPascals == 100 Pa)"
   ]
  },
  {
   "cell_type": "code",
   "execution_count": null,
   "metadata": {},
   "outputs": [],
   "source": [
    "tk_air_pressure = dataset.streams.TK.AirQuality.AirPressure\n",
    "diff_stats(tk_air_pressure)"
   ]
  },
  {
   "cell_type": "markdown",
   "metadata": {},
   "source": [
    "## Tinkerforge Sound pressure \n",
    "From [tinkerforge webpage](https://www.tinkerforge.com/en/doc/Hardware/Bricklets/Sound_Pressure_Level.html)\n",
    "The values stored are in dbx10  \n",
    "The rate is 100Hz\n"
   ]
  },
  {
   "cell_type": "code",
   "execution_count": null,
   "metadata": {},
   "outputs": [],
   "source": [
    "tk_sound_pressure = dataset.streams.TK.SoundPressureLevel.SPL\n",
    "diff_stats(tk_sound_pressure)"
   ]
  },
  {
   "cell_type": "code",
   "execution_count": null,
   "metadata": {},
   "outputs": [],
   "source": [
    "ax = (tk_sound_pressure.data/10).plot(title = 'dB')\n",
    "ax.set_ylabel(\"Sound Pressure Level (dB)\")\n"
   ]
  },
  {
   "cell_type": "markdown",
   "metadata": {},
   "source": [
    "## Tinkerforge Humidity \n",
    "From [tinkerforge webpage](https://www.tinkerforge.com/en/doc/Hardware/Bricklets/Humidity_V2.html)\n",
    "Values stored are in relative humidity x 100.0"
   ]
  },
  {
   "cell_type": "code",
   "execution_count": null,
   "metadata": {},
   "outputs": [],
   "source": [
    "tk_humidity = dataset.streams.TK.Humidity.Humidity\n",
    "diff_stats(tk_humidity)"
   ]
  },
  {
   "cell_type": "code",
   "execution_count": null,
   "metadata": {},
   "outputs": [],
   "source": [
    "ax = (tk_humidity.data/100).plot(title = 'RH%')\n",
    "ax.set_ylabel(\"Relative Humidity (%)\")"
   ]
  },
  {
   "cell_type": "markdown",
   "metadata": {},
   "source": [
    "### Analog In Voltage\n",
    "This is connected to the sync pulse that we are sending from the pluma board  \n",
    "Measured in volts and the signal we are sending is in 3.5 v  \n",
    "The rate is 100Hz"
   ]
  },
  {
   "cell_type": "code",
   "execution_count": null,
   "metadata": {},
   "outputs": [],
   "source": [
    "tk_analog_in = dataset.streams.TK.AnalogIn.Voltage\n",
    "diff_stats(tk_analog_in)\n",
    "dataset.streams.BioData.Set.data.reset_index().plot(kind='scatter', x='Seconds', y = 'Value')"
   ]
  },
  {
   "cell_type": "markdown",
   "metadata": {},
   "source": [
    "## Tinkerforge Particulate matter \n",
    "From [tinkerforge webpage](https://www.tinkerforge.com/en/doc/Hardware/Bricklets/Particulate_Matter.html)  \n",
    "Values are stored in µg/m³  \n",
    "  \n",
    "Three streams:  \n",
    "- PM10\n",
    "- PM25\n",
    "- PM100"
   ]
  },
  {
   "cell_type": "markdown",
   "metadata": {},
   "source": [
    "### PM10"
   ]
  },
  {
   "cell_type": "code",
   "execution_count": null,
   "metadata": {},
   "outputs": [],
   "source": [
    "tk_particulate_1 = dataset.streams.TK.ParticulateMatter.PM1_0\n",
    "diff_stats(tk_particulate_1)"
   ]
  },
  {
   "cell_type": "markdown",
   "metadata": {},
   "source": [
    "### PM25"
   ]
  },
  {
   "cell_type": "code",
   "execution_count": null,
   "metadata": {},
   "outputs": [],
   "source": [
    "tk_particulate_25 = dataset.streams.TK.ParticulateMatter.PM2_5\n",
    "diff_stats(tk_particulate_25)"
   ]
  },
  {
   "cell_type": "markdown",
   "metadata": {},
   "source": [
    "### PM100"
   ]
  },
  {
   "cell_type": "code",
   "execution_count": null,
   "metadata": {},
   "outputs": [],
   "source": [
    "tk_particulate_100 = dataset.streams.TK.ParticulateMatter.PM10_0\n",
    "diff_stats(tk_particulate_100)"
   ]
  },
  {
   "cell_type": "markdown",
   "metadata": {},
   "source": [
    "## Solar light\n",
    "From [tinkerforge website](https://www.tinkerforge.com/en/doc/Hardware/Bricklets/Industrial_Dual_020mA_V2.html#industrial-dual-0-20ma-v2-bricklet)  \n",
    "Currently do not have access to the datasheet for the sensor itself. TK only because data is routed through TK device  \n",
    "Units from the device are milliAmps x 1000000  \n",
    "The rate is 100Hz"
   ]
  },
  {
   "cell_type": "code",
   "execution_count": null,
   "metadata": {},
   "outputs": [],
   "source": [
    "tk_solar_light = dataset.streams.TK.Dual0_20mA.SolarLight\n",
    "diff_stats(tk_solar_light)"
   ]
  },
  {
   "cell_type": "code",
   "execution_count": null,
   "metadata": {},
   "outputs": [],
   "source": [
    "tx = (tk_solar_light.data/1000000).plot(title = 'milliAmps')\n",
    "tx.set_ylabel(\"mA\")"
   ]
  },
  {
   "cell_type": "markdown",
   "metadata": {},
   "source": [
    "## Tinkerforge Radiant Temperature (Thermocouple)\n",
    "From [tinkerforge webpage](https://www.tinkerforge.com/en/doc/Hardware/Bricklets/Thermocouple_V2.html)  \n",
    "Values are stored in degrees Celsius x 100"
   ]
  },
  {
   "cell_type": "code",
   "execution_count": null,
   "metadata": {},
   "outputs": [],
   "source": [
    "tk_thermocouple = dataset.streams.TK.Thermocouple.Temperature\n",
    "diff_stats(tk_thermocouple)"
   ]
  },
  {
   "cell_type": "code",
   "execution_count": null,
   "metadata": {},
   "outputs": [],
   "source": [
    "tx = (tk_thermocouple.data/100).plot(title = 'º Celsius')\n",
    "tx.set_ylabel(\"Degrees Celsius\")"
   ]
  },
  {
   "cell_type": "markdown",
   "metadata": {},
   "source": [
    "## Tinkerforge AirTemp\n",
    "\n",
    "From [tinkerforge website](https://www.tinkerforge.com/en/doc/Hardware/Bricklets/PTC_V2.html)  \n",
    "Values are stored as degrees Celsius x 100  \n",
    "The rate is 100Hz"
   ]
  },
  {
   "cell_type": "code",
   "execution_count": null,
   "metadata": {},
   "outputs": [],
   "source": [
    "tk_air_temp = dataset.streams.TK.PTC.AirTemp\n",
    "diff_stats(tk_air_temp)"
   ]
  },
  {
   "cell_type": "code",
   "execution_count": null,
   "metadata": {},
   "outputs": [],
   "source": [
    "tx = (tk_air_temp.data/100).plot(title = 'º Celsius')\n",
    "tx.set_ylabel(\"Degrees Celsius\")"
   ]
  },
  {
   "cell_type": "markdown",
   "metadata": {},
   "source": [
    "new (\n",
    "it.Item1 as NorthWindSpeed,\n",
    "it.Item2 as EastWindSpeed, \n",
    "it.Item3 as GustWindSpeeed,\n",
    "it.Item4 as AirTemperature,\n",
    "it.Item5 as XOrientation,\n",
    "it.Item6 as YOrientation,\n",
    "it.Item7 as NullValue)"
   ]
  },
  {
   "cell_type": "code",
   "execution_count": null,
   "metadata": {},
   "outputs": [],
   "source": [
    "Atmos_data_north = dataset.streams.Atmos.NorthWind\n",
    "diff_stats(Atmos_data_north)"
   ]
  },
  {
   "cell_type": "markdown",
   "metadata": {},
   "source": [
    "### Atmos Temperature "
   ]
  },
  {
   "cell_type": "code",
   "execution_count": null,
   "metadata": {},
   "outputs": [],
   "source": [
    "tx = (dataset.streams.Atmos.AirTemperature.data).plot(title = 'º Celsius')\n",
    "tx.set_ylabel(\"Degrees Celsius\")\n",
    "tx = (dataset.streams.Atmos.XOrientation.data).plot(title = 'X Angle (degrees)')\n",
    "tx.set_ylabel(\"Angle (º)\")\n",
    "tx = (dataset.streams.Atmos.YOrientation.data).plot(title = 'Y Angle (degrees)')\n",
    "tx.set_ylabel(\"Angle (º)\")"
   ]
  },
  {
   "cell_type": "markdown",
   "metadata": {},
   "source": [
    "### Accelerometer\n",
    "The rate is 50Hz  \n",
    "\n",
    "From this sensor we have several datastreams, each with 3 axes (X,Y,Z):  \n",
    "\n",
    "- Orientation            - measured as an angle (degrees)\n",
    "- Gyroscope              - measured as angular velocity (degrees per second)\n",
    "- Magnetometer           - measured as acceleration (m/s²)\n",
    "- Linear acceleration    - measured as acceleration (m/s²)\n",
    "- Accl                   - measured as acceleration (m/s²)\n",
    "- Gravity                - measured as acceleration (m/s²)"
   ]
  },
  {
   "cell_type": "code",
   "execution_count": null,
   "metadata": {},
   "outputs": [],
   "source": [
    "tx = pd.DataFrame(dataset.streams.Accelerometer.data.Temperature).plot(title = 'Temperature (degrees Celcius)')\n",
    "tx.set_ylabel(\"Temperature (ºC)\")"
   ]
  },
  {
   "cell_type": "code",
   "execution_count": null,
   "metadata": {},
   "outputs": [],
   "source": [
    "\n",
    "ori = pd.DataFrame(dataset.streams.Accelerometer.data[['Orientation_X', 'Orientation_Y', 'Orientation_Z']])\n",
    "gyro = pd.DataFrame(dataset.streams.Accelerometer.data[['Gyroscope_X', 'Gyroscope_Y', 'Gyroscope_Z']])\n",
    "magnet = pd.DataFrame(dataset.streams.Accelerometer.data[['Magnetometer_X', 'Magnetometer_Y', 'Magnetometer_Z']])\n",
    "linear = pd.DataFrame(dataset.streams.Accelerometer.data[['LinearAccl_X', 'LinearAccl_Y', 'LinearAccl_Z']])\n",
    "acc = pd.DataFrame(dataset.streams.Accelerometer.data[['Accl_X', 'Accl_Y', 'Accl_Z']])\n",
    "gravity = pd.DataFrame(dataset.streams.Accelerometer.data[['Gravity_X', 'Gravity_Y', 'Gravity_Z']])"
   ]
  },
  {
   "cell_type": "code",
   "execution_count": null,
   "metadata": {},
   "outputs": [],
   "source": [
    "fig, axs = plt.subplots(2, 3, figsize = (16,12))\n",
    "\n",
    "ori.plot(title = 'Orientation', ax = axs[0,0], layout = 'tight', ylabel = 'Angle (º)')\n",
    "gyro.plot(title = 'Gyroscope', ax = axs[0,1], layout = 'tight', ylabel = 'Angular velocity (º/s)')\n",
    "magnet.plot(title = 'Magnetometer', ax = axs[1,0], layout = 'tight', ylabel = 'Angle (º)')\n",
    "linear.plot(title = 'Linear Acceleration', ax = axs[0,2], layout = 'tight',  ylabel = 'm/s²')\n",
    "acc.plot(title = 'Accl', ax = axs[1,1], layout = 'tight', ylabel = 'm/s²')\n",
    "gravity.plot(title = 'Gravity', ax = axs[1,2], layout = 'tight', ylabel = 'm/s²')"
   ]
  },
  {
   "cell_type": "markdown",
   "metadata": {},
   "source": [
    "## Empatica [E4](https://box.empatica.com/documentation/20141119_E4_TechSpecs.pdf)\n",
    "\n",
    "Empatica Streaming server is used to collect [data](https://developer.empatica.com/windows-streaming-server-data.html) from the device \n",
    "\n",
    "Used mainly for GSR\n",
    "\n",
    "### Data keys:\n",
    " - 'E4_Acc' - AccX(facing usb slot)  AccY(facing shorter strap) AccZ (facing the bottom) - measured in \tm/s2\n",
    " - 'E4_Battery' - % of battery between 0 and 1\n",
    " - 'E4_Bvp' - Measures the light reflectance of the emmited light by the sensor [reference1](https://support.empatica.com/hc/en-us/articles/360029719792-E4-data-BVP-expected-signal) [reference2](https://support.empatica.com/hc/en-us/articles/204954639-Utilizing-the-PPG-BVP-signal) \n",
    " - 'E4_Gsr' - measured in microsiemens\n",
    " - 'E4_Hr' - The value of the detected heartbeat, returned together with the interbeat interval data.\n",
    " - 'E4_Ibi' - The value is the distance from the previous detected heartbeat in seconds\n",
    " - 'E4_Temperature' - The value of the temperature sample in Celsius degrees. The value is derived from the optical temperature sensor placed on the wrist.\n",
    " - 'E4_tag' - The button on the wristband was pressed\n",
    " - 'R' -  String with responses from requests sent to the wristband"
   ]
  },
  {
   "cell_type": "code",
   "execution_count": null,
   "metadata": {},
   "outputs": [],
   "source": [
    "print(list(dataset.streams.Empatica.data.keys()))\n",
    "dataset.streams.empatica.data['R']"
   ]
  },
  {
   "cell_type": "markdown",
   "metadata": {},
   "source": [
    "## E4_Acc \n",
    "31.5 Hz"
   ]
  },
  {
   "cell_type": "code",
   "execution_count": null,
   "metadata": {},
   "outputs": [],
   "source": [
    "e4_acc = pd.DataFrame(dataset.streams.Empatica.data['E4_Acc'])\n",
    "diff_stats_empatica(e4_acc, label='Acc')\n",
    "e4_acc"
   ]
  },
  {
   "cell_type": "markdown",
   "metadata": {},
   "source": [
    "### E4_Battery  \n",
    "% of battery between 0 and 1  \n",
    "The rate is 0.05 Hz"
   ]
  },
  {
   "cell_type": "code",
   "execution_count": null,
   "metadata": {},
   "outputs": [],
   "source": [
    "e4_bat = pd.DataFrame(dataset.streams.Empatica.data['E4_Battery'])\n",
    "diff_stats_empatica(e4_bat)\n",
    "e4_bat"
   ]
  },
  {
   "cell_type": "markdown",
   "metadata": {},
   "source": [
    "### Strange Data \n",
    "While looking at data we found many repetitions with the same timestamp, we guess this sensor only reports when there is a change in the value and the repetitions are due to the chatter back and forth you can get each moment a value changes reported in batches over bluetooth."
   ]
  },
  {
   "cell_type": "code",
   "execution_count": null,
   "metadata": {},
   "outputs": [],
   "source": [
    "fig, axs = plt.subplots(2, 2)\n",
    "e4_bat.reset_index(inplace=True)\n",
    "e4_bat.set_index('E4_Seconds', inplace=True)\n",
    "axs[0, 0].scatter(e4_bat.index, e4_bat['Value'])\n",
    "axs[0, 0].set_title('Battery E4_Seconds Scatter')\n",
    "axs[0, 0].set_xlabel('Time')\n",
    "\n",
    "e4_bat.plot(kind='hist', ax=axs[0, 1], title='Distribution E4_Seconds', legend=False)\n",
    "\n",
    "e4_bat.reset_index(inplace=True)\n",
    "e4_bat.set_index('Seconds', inplace=True)\n",
    "\n",
    "axs[1, 0].scatter(e4_bat.index, e4_bat['Value'])\n",
    "axs[1, 0].set_title('Battery Seconds Scatter')\n",
    "axs[1, 0].set_xlabel('Time')\n",
    "\n",
    "e4_bat.plot(kind='hist', ax=axs[1, 1], title='Distribution Seconds', legend=False)\n",
    "\n",
    "plt.tight_layout()\n",
    "plt.show()"
   ]
  },
  {
   "cell_type": "markdown",
   "metadata": {},
   "source": [
    "## E_4 BVP\n",
    "\n",
    "Is a photodiode that measures the reflection of green and red light in the blod under the skin  \n",
    "The BVP signal is obtained from the PPG sensor by a proprietary algorithm which combines the two types of signal  \n",
    "The rate is 64 Hz"
   ]
  },
  {
   "cell_type": "code",
   "execution_count": null,
   "metadata": {},
   "outputs": [],
   "source": [
    "e4_bvp = pd.DataFrame(dataset.streams.Empatica.data['E4_Bvp'])\n",
    "diff_stats_empatica(e4_bvp)\n",
    "\n",
    "e4_bvp"
   ]
  },
  {
   "cell_type": "markdown",
   "metadata": {},
   "source": [
    "### E4 GSR\n",
    "Measured in in microsiemens.  \n",
    "The rate of 4 Hz\n"
   ]
  },
  {
   "cell_type": "code",
   "execution_count": null,
   "metadata": {},
   "outputs": [],
   "source": [
    "e4_gsr = pd.DataFrame(dataset.streams.Empatica.data['E4_Gsr'])\n",
    "series = diff_stats_empatica(e4_gsr)\n",
    "e4_gsr"
   ]
  },
  {
   "cell_type": "markdown",
   "metadata": {},
   "source": [
    "### E4_Hr\n",
    "\n",
    "Measures the hear rate in beats per minute  \n",
    "The rate is 1.56 Hz"
   ]
  },
  {
   "cell_type": "code",
   "execution_count": null,
   "metadata": {},
   "outputs": [],
   "source": [
    "e4_hr = pd.DataFrame(dataset.streams.Empatica.data['E4_Hr'])\n",
    "series = diff_stats_empatica(e4_hr) \n",
    "e4_hr"
   ]
  },
  {
   "cell_type": "markdown",
   "metadata": {},
   "source": [
    "### E4_Ibi \n",
    "The value is the time from the previous detected heartbeat in seconds  \n",
    "The rate is 1.56 Hz "
   ]
  },
  {
   "cell_type": "code",
   "execution_count": null,
   "metadata": {},
   "outputs": [],
   "source": [
    "e4_ibi = pd.DataFrame(dataset.streams.Empatica.data['E4_Ibi'])\n",
    "series = diff_stats_empatica(e4_ibi) \n",
    "e4_ibi"
   ]
  },
  {
   "cell_type": "markdown",
   "metadata": {},
   "source": [
    "### E4_Temperature\n",
    "The value of the temperature sample in degrees Celsius.  \n",
    "The value is derived from the optical temperature sensor placed on the wrist.  \n",
    "The rate is 4Hz"
   ]
  },
  {
   "cell_type": "code",
   "execution_count": null,
   "metadata": {},
   "outputs": [],
   "source": [
    "e4_temp = pd.DataFrame(dataset.streams.Empatica.data['E4_Temperature'])\n",
    "series = diff_stats_empatica(e4_temp) \n",
    "e4_temp"
   ]
  },
  {
   "cell_type": "markdown",
   "metadata": {},
   "source": [
    "## PupilLabs"
   ]
  },
  {
   "cell_type": "markdown",
   "metadata": {},
   "source": [
    "### Decoded Fames Counter  \n",
    "There is the need to account for the invalid frames received when calculating the timestamp for each frame  \n",
    "The rate is 32Hz"
   ]
  },
  {
   "cell_type": "code",
   "execution_count": null,
   "metadata": {},
   "outputs": [],
   "source": [
    "pupil_decoded_frames = dataset.streams.PupilLabs.Counter.DecodedFrames\n",
    "diff_stats(pupil_decoded_frames)\n",
    "\n",
    "import cv2\n",
    "\n",
    "pupilVideo = cv2.VideoCapture(stream_root_folder+r\"\\pupil_video.avi\")\n",
    "avi_length = int(pupilVideo.get(cv2.CAP_PROP_FRAME_COUNT))\n",
    "# Valid Frame Counters \n",
    "print(f\"Video lenght = {avi_length}\" )\n",
    "count_decoded_frames_count = pupil_decoded_frames.data.loc[pupil_decoded_frames.data['Value'] == 1].shape[0]\n",
    "print(f\"Valid decoded frames counter lenght {count_decoded_frames_count}\")\n",
    "print(f\"All decoded frames counter lenght {pupil_decoded_frames.data.shape[0]}\")\n",
    "\n",
    "#print(f'Minimum = {mini}; Maximum = {maxi}; Mean = {meani}; Median = {medi}') "
   ]
  },
  {
   "cell_type": "markdown",
   "metadata": {},
   "source": [
    "## Pupil raw frames \n",
    "The rate is 32 Hz"
   ]
  },
  {
   "cell_type": "code",
   "execution_count": null,
   "metadata": {},
   "outputs": [],
   "source": [
    "pupil_raw_frames = dataset.streams.PupilLabs.Counter.RawFrames\n",
    "diff_stats(pupil_raw_frames)\n"
   ]
  },
  {
   "cell_type": "code",
   "execution_count": null,
   "metadata": {},
   "outputs": [],
   "source": [
    "dataset.streams.PupilLabs.Counter.IMU.data"
   ]
  },
  {
   "cell_type": "markdown",
   "metadata": {},
   "source": [
    "## Pupil Gaze\n",
    "The rate is 250Hz"
   ]
  },
  {
   "cell_type": "code",
   "execution_count": null,
   "metadata": {},
   "outputs": [],
   "source": [
    "pupil_gaze = dataset.streams.PupilLabs.Counter.Gaze\n",
    "diff_stats(pupil_gaze)"
   ]
  },
  {
   "cell_type": "code",
   "execution_count": null,
   "metadata": {},
   "outputs": [],
   "source": [
    "dataset.streams.PupilLabs.Counter.Audio.data"
   ]
  },
  {
   "cell_type": "code",
   "execution_count": null,
   "metadata": {},
   "outputs": [],
   "source": [
    "dataset.streams.PupilLabs.Counter.Key"
   ]
  }
 ],
 "metadata": {
  "kernelspec": {
   "display_name": "Python 3",
   "language": "python",
   "name": "python3"
  },
  "language_info": {
   "codemirror_mode": {
    "name": "ipython",
    "version": 3
   },
   "file_extension": ".py",
   "mimetype": "text/x-python",
   "name": "python",
   "nbconvert_exporter": "python",
   "pygments_lexer": "ipython3",
   "version": "3.10.14"
  }
 },
 "nbformat": 4,
 "nbformat_minor": 2
}
