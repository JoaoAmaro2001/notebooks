{
 "cells": [
  {
   "cell_type": "code",
   "execution_count": null,
   "metadata": {},
   "outputs": [],
   "source": [
    "import matplotlib.pyplot as plt\n",
    "import datetime\n",
    "import tilemapbase as tmb\n",
    "import numpy as np\n",
    "import pandas as pd\n",
    "from pluma.stream.georeference import Georeference\n",
    "from pluma.stream.ubx import _UBX_MSGIDS\n",
    "from pluma.schema import Dataset\n",
    "\n",
    "## Notebook plotting\n",
    "%matplotlib inline\n",
    "plt.style.use('ggplot')\n",
    "\n",
    "## Figure export parameters\n",
    "new_rc_params = {'text.usetex': False,\n",
    "\"svg.fonttype\": 'none'\n",
    "}\n",
    "import matplotlib as mpl\n",
    "mpl.rcParams.update(new_rc_params)"
   ]
  },
  {
   "cell_type": "code",
   "execution_count": null,
   "metadata": {},
   "outputs": [],
   "source": [
    "stream_root_folder = r's3://emotional-cities/data/nrg/poc-v1/TechnicalBenchmarks/EmpaticaLDRBenchmark2022_09_26_18_06_45'\n",
    "from benchmark_schemas import build_benchmarkschema_empatica\n",
    "\n",
    "dataset = Dataset(\n",
    "    stream_root_folder,\n",
    "    datasetlabel=\"Empatica_Benchmark\",\n",
    "    georeference= Georeference(),\n",
    "    schema=build_benchmarkschema_empatica)\n",
    "dataset.populate_streams(autoload=True)\n",
    "\n"
   ]
  },
  {
   "cell_type": "code",
   "execution_count": null,
   "metadata": {},
   "outputs": [],
   "source": [
    "rolling_max = dataset.streams.BioData.ECG.data[\"Value1\"].rolling('1s').max() #get rid of double hits due to hysteresis using a max-window filter.\n",
    "\n",
    "\n",
    "thr = 70\n",
    "ttl = (rolling_max > thr).astype(int)\n",
    "pd_rising_edge = ttl[np.where(np.diff(ttl, append=np.nan) == 1)[0]]\n",
    "\n",
    "fig = plt.figure(figsize= (15,4))\n",
    "plt.plot(dataset.streams.BioData.ECG.data[\"Value1\"]/1000, label = 'RawSignal')\n",
    "plt.plot(ttl, label = 'ThresholdedSignal')\n",
    "plt.scatter(x = pd_rising_edge.index, y = pd_rising_edge.values*0 + 0.5, color = \"darkgreen\", label = 'risingEdge')\n",
    "plt.plot(rolling_max/1000, label = 'Filtered signal')\n",
    "plt.ylabel('Voltage (adc units)')\n",
    "plt.xlabel('Time')\n",
    "plt.scatter(dataset.streams.Empatica.data.E4_Tag.index,  np.ones((len(dataset.streams.Empatica.data.E4_Tag.index),1)) * 0.6, label = \"EmpaticaTags\")\n",
    "\n",
    "plt.legend(loc='upper center', bbox_to_anchor=(0.5, 0.95),\n",
    "          ncol=3, fancybox=True, shadow=True)\n",
    "\n",
    "\n",
    "plt.xlim((pd_rising_edge.index[82], pd_rising_edge.index[88]))\n",
    "plt.show()\n",
    "\n",
    "#Confirm no double hits were detected. There should be no events below 1 second.\n",
    "plt.figure(figsize= (3,2))\n",
    "plt.hist(np.diff(pd_rising_edge.index.values)/ np.timedelta64(1, 's'), np.linspace(0, 10, 20))\n",
    "plt.xlabel('$\\Delta t_{OnSet}$')\n",
    "plt.ylabel('Counts')\n",
    "plt.title('Refractory period violations')\n",
    "plt.show()\n"
   ]
  },
  {
   "cell_type": "code",
   "execution_count": null,
   "metadata": {},
   "outputs": [],
   "source": [
    "delta_t = pd_rising_edge.index.values - dataset.streams.Empatica.data.E4_Tag.index.values\n",
    "delta_t = -delta_t / np.timedelta64(1, 'ms')\n",
    "delta_t = delta_t[delta_t > 0]\n",
    "\n",
    "plt.figure(figsize= (9,6))\n",
    "plt.hist(delta_t, bins = 25, color= \"Teal\")\n",
    "plt.xlabel('Latency (ms)')\n",
    "plt.ylabel('Counts')\n",
    "plt.xlim((0,250))\n",
    "plt.title(f'Empatica latency benchmark\\n$\\mu = {np.mean(delta_t):.2f}, \\sigma = {np.std(delta_t):.2f},$ [min:max] = [{np.min(delta_t):.2f}:{np.max(delta_t):.2f}]')\n",
    "plt.show()"
   ]
  },
  {
   "cell_type": "code",
   "execution_count": null,
   "metadata": {},
   "outputs": [],
   "source": []
  }
 ],
 "metadata": {
  "kernelspec": {
   "display_name": "Python 3.9.7 ('base')",
   "language": "python",
   "name": "python3"
  },
  "language_info": {
   "codemirror_mode": {
    "name": "ipython",
    "version": 3
   },
   "file_extension": ".py",
   "mimetype": "text/x-python",
   "name": "python",
   "nbconvert_exporter": "python",
   "pygments_lexer": "ipython3",
   "version": "3.9.7"
  },
  "orig_nbformat": 4,
  "vscode": {
   "interpreter": {
    "hash": "09bd21bb92291494554824029e1a9dff7dc56aa6d478169471a2232705d1a524"
   }
  }
 },
 "nbformat": 4,
 "nbformat_minor": 2
}
