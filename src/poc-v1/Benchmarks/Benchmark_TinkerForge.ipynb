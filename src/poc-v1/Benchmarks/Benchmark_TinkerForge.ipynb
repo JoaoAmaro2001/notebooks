{
 "cells": [
  {
   "cell_type": "code",
   "execution_count": null,
   "metadata": {},
   "outputs": [],
   "source": [
    "import matplotlib.pyplot as plt\n",
    "import datetime\n",
    "import tilemapbase as tmb\n",
    "import numpy as np\n",
    "import pandas as pd\n",
    "from pluma.stream.georeference import Georeference\n",
    "from pluma.stream.ubx import _UBX_MSGIDS\n",
    "from pluma.schema import Dataset\n",
    "\n",
    "## Notebook plotting\n",
    "%matplotlib inline\n",
    "plt.style.use('ggplot')\n",
    "\n",
    "## Figure export parameters\n",
    "new_rc_params = {'text.usetex': False,\n",
    "\"svg.fonttype\": 'none'\n",
    "}\n",
    "import matplotlib as mpl\n",
    "mpl.rcParams.update(new_rc_params)\n"
   ]
  },
  {
   "cell_type": "code",
   "execution_count": null,
   "metadata": {},
   "outputs": [],
   "source": [
    "stream_root_folder = r's3://emotional-cities/data/nrg/poc-v1/TechnicalBenchmarks/BenchmarkRun2022_09_22_10_30_02/'\n",
    "from benchmark_schemas import build_benchmarkschema_tinkerforge\n",
    "\n",
    "dataset = Dataset(\n",
    "    stream_root_folder,\n",
    "    datasetlabel=\"TinkerForge_Benchmark\",\n",
    "    georeference= Georeference(),\n",
    "    schema=build_benchmarkschema_tinkerforge)\n",
    "dataset.populate_streams(autoload=True)\n",
    "\n",
    "\n"
   ]
  },
  {
   "cell_type": "code",
   "execution_count": null,
   "metadata": {},
   "outputs": [],
   "source": [
    "# Get the synch pulse from the BioData \"Set\" stream\n",
    "bit_mask = 0x03\n",
    "rising_edge_events = dataset.streams.BioData.Set.data[dataset.streams.BioData.Set.data & bit_mask > 0]\n",
    "rising_edge_events"
   ]
  },
  {
   "cell_type": "code",
   "execution_count": null,
   "metadata": {},
   "outputs": [],
   "source": [
    "# Get the raw voltage trace that records the synch pulse in the TK device\n",
    "\n",
    "threshold = 20\n",
    "ttl = (dataset.streams.TK.AnalogIn.Voltage.data[\"Value\"].values > threshold).astype(int)\n",
    "tk_rising_edge_events = dataset.streams.TK.AnalogIn.Voltage.data.iloc[np.where(np.diff(ttl, prepend=np.NaN) == 1)[0],:]\n",
    "tk_rising_edge_events\n",
    "\n",
    "print(f\"Set events: {len(rising_edge_events)}\\nADC events: {len(tk_rising_edge_events)}\")\n",
    "\n",
    "\n",
    "fig, axs = plt.subplots(1,2)\n",
    "fig.set_size_inches(15,7)\n",
    "axs[0].plot(dataset.streams.TK.AnalogIn.Voltage.data)\n",
    "axs[0].scatter(x = rising_edge_events.index.values, y = np.ones(shape=rising_edge_events.index.values.shape) * 1000.0, c = 'blue')\n",
    "axs[0].set_xlabel('Time (s)')\n",
    "axs[0].set_ylabel('Voltage (adc units)')\n",
    "axs[0].set_title(\"Raw voltage trace\")\n",
    "axs[0].set_xlim((rising_edge_events.index[0], rising_edge_events.index[2]))\n",
    "\n",
    "axs[1].plot(dataset.streams.TK.AnalogIn.Voltage.data.index.values, ttl)\n",
    "axs[1].scatter(x = rising_edge_events.index.values, y = np.ones(shape=rising_edge_events.index.values.shape), c = 'blue')\n",
    "axs[1].set_xlabel('Time (s)')\n",
    "axs[1].set_ylabel('Voltage (adc units)')\n",
    "axs[1].set_title(\"Raw voltage trace\")\n",
    "axs[1].set_xlim((rising_edge_events.index[0], rising_edge_events.index[2]))\n",
    "plt.show()\n",
    "\n",
    "\n",
    "delta_t = rising_edge_events.index.values - tk_rising_edge_events.index.values\n",
    "delta_t = -delta_t / np.timedelta64(1, 'ms')\n",
    "\n",
    "plt.figure(figsize= (9,6))\n",
    "plt.hist(delta_t, bins = 50, color= \"Teal\")\n",
    "plt.xlabel('Latency (ms)')\n",
    "plt.ylabel('Counts')\n",
    "plt.title(f'TinkerForge latency benchmark\\n$\\mu = {np.mean(delta_t):.2f}, \\sigma = {np.std(delta_t):.2f},$ [min:max] = [{np.min(delta_t):.2f}:{np.max(delta_t):.2f}]')\n",
    "plt.show()\n"
   ]
  }
 ],
 "metadata": {
  "kernelspec": {
   "display_name": "Python 3.9.7 ('base')",
   "language": "python",
   "name": "python3"
  },
  "language_info": {
   "codemirror_mode": {
    "name": "ipython",
    "version": 3
   },
   "file_extension": ".py",
   "mimetype": "text/x-python",
   "name": "python",
   "nbconvert_exporter": "python",
   "pygments_lexer": "ipython3",
   "version": "3.9.7"
  },
  "orig_nbformat": 4,
  "vscode": {
   "interpreter": {
    "hash": "09bd21bb92291494554824029e1a9dff7dc56aa6d478169471a2232705d1a524"
   }
  }
 },
 "nbformat": 4,
 "nbformat_minor": 2
}
