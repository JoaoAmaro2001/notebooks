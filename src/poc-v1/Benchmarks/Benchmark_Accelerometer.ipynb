{
 "cells": [
  {
   "cell_type": "code",
   "execution_count": null,
   "metadata": {},
   "outputs": [],
   "source": [
    "import matplotlib.pyplot as plt\n",
    "import datetime\n",
    "import tilemapbase as tmb\n",
    "import numpy as np\n",
    "import pandas as pd\n",
    "from pluma.stream.georeference import Georeference\n",
    "from pluma.stream.ubx import _UBX_MSGIDS\n",
    "from pluma.schema import Dataset\n",
    "\n",
    "## Notebook plotting\n",
    "%matplotlib inline\n",
    "plt.style.use('ggplot')\n",
    "\n",
    "## Figure export parameters\n",
    "new_rc_params = {'text.usetex': False,\n",
    "\"svg.fonttype\": 'none'\n",
    "}\n",
    "import matplotlib as mpl\n",
    "mpl.rcParams.update(new_rc_params)"
   ]
  },
  {
   "cell_type": "code",
   "execution_count": null,
   "metadata": {},
   "outputs": [],
   "source": [
    "stream_root_folder = r's3:///emotional-cities/data/nrg/poc-v1/London/London2022_09_22_10_30_02'\n",
    "\n",
    "from benchmark_schemas import build_benchmarkschema_accelerometer\n",
    "\n",
    "dataset = Dataset(\n",
    "    stream_root_folder,\n",
    "    datasetlabel=\"Accelerometer_Benchmark\",\n",
    "    georeference= Georeference(),\n",
    "    schema=build_benchmarkschema_accelerometer)\n",
    "dataset.populate_streams(autoload=True)"
   ]
  },
  {
   "cell_type": "code",
   "execution_count": null,
   "metadata": {},
   "outputs": [],
   "source": [
    "fig, axs = plt.subplots(1,2)\n",
    "fig.set_size_inches(12,4)\n",
    "axs[0].plot(dataset.streams.BioData.Accelerometer.data)\n",
    "axs[0].set_xlim(dataset.streams.BioData.Accelerometer.data.index[0], dataset.streams.BioData.Accelerometer.data.index[500])\n",
    "\n",
    "axs[1].plot(np.diff(dataset.streams.BioData.Accelerometer.data.Value.astype(float)))\n",
    "axs[1].set_xlim((0, 5000))\n",
    "plt.show()\n",
    "print(np.unique(np.diff(dataset.streams.BioData.Accelerometer.data.Value.astype(float))))\n",
    "\n",
    "np.all(dataset.streams.Accelerometer.data.index.values == dataset.streams.BioData.Accelerometer.data.index.values)"
   ]
  },
  {
   "cell_type": "code",
   "execution_count": null,
   "metadata": {},
   "outputs": [],
   "source": [
    "\n",
    "delta_t = dataset.streams.Accelerometer.data.index - dataset.streams.Accelerometer.data['SoftwareTimestamp']\n",
    "delta_t = -delta_t / np.timedelta64(1, 'ms')\n",
    "plt.figure()\n",
    "\n",
    "plt.plot(delta_t)\n",
    "plt.ylabel('$\\Delta t (ms)$')\n",
    "plt.xlabel('Time(s)')\n",
    "plt.show()\n",
    "\n",
    "#delta_t[(delta_t > 900) or (delta_t > 900)] = np.NaN\n",
    "\n",
    "plt.figure(figsize= (9,6))\n",
    "plt.hist(delta_t, bins = np.linspace(0, 50, 50), color= \"Teal\")\n",
    "plt.xlabel('Latency (ms)')\n",
    "plt.ylabel('Counts')\n",
    "txt = (f'Accelerometer benchmark\\n$\\mu = {np.mean(delta_t):.2f}, \\sigma = {np.std(delta_t):.2f},$ [min:max] = [{np.min(delta_t):.2f}:{np.max(delta_t):.2f}]')\n",
    "delta_t = delta_t[(delta_t > 0) & (delta_t < 100)]\n",
    "plt.title(txt + \"\\n\" + f'Excluding outliers\\n$\\mu = {np.mean(delta_t):.2f}, \\sigma = {np.std(delta_t):.2f},$ [min:max] = [{np.min(delta_t):.2f}:{np.max(delta_t):.2f}]')\n",
    "\n",
    "plt.show()"
   ]
  }
 ],
 "metadata": {
  "kernelspec": {
   "display_name": "Python 3.9.7 ('base')",
   "language": "python",
   "name": "python3"
  },
  "language_info": {
   "codemirror_mode": {
    "name": "ipython",
    "version": 3
   },
   "file_extension": ".py",
   "mimetype": "text/x-python",
   "name": "python",
   "nbconvert_exporter": "python",
   "pygments_lexer": "ipython3",
   "version": "3.9.7"
  },
  "orig_nbformat": 4,
  "vscode": {
   "interpreter": {
    "hash": "09bd21bb92291494554824029e1a9dff7dc56aa6d478169471a2232705d1a524"
   }
  }
 },
 "nbformat": 4,
 "nbformat_minor": 2
}
