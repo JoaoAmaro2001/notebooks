{
 "cells": [
  {
   "cell_type": "code",
   "execution_count": null,
   "metadata": {},
   "outputs": [],
   "source": [
    "import matplotlib.pyplot as plt\n",
    "import datetime\n",
    "import tilemapbase as tmb\n",
    "import numpy as np\n",
    "import pandas as pd\n",
    "from pluma.stream.georeference import Georeference\n",
    "from pluma.stream.ubx import _UBX_MSGIDS\n",
    "from pluma.schema import Dataset\n",
    "\n",
    "## Notebook plotting\n",
    "%matplotlib inline\n",
    "plt.style.use('ggplot')\n",
    "\n",
    "## Figure export parameters\n",
    "new_rc_params = {'text.usetex': False,\n",
    "\"svg.fonttype\": 'none'\n",
    "}\n",
    "import matplotlib as mpl\n",
    "mpl.rcParams.update(new_rc_params)"
   ]
  },
  {
   "cell_type": "code",
   "execution_count": null,
   "metadata": {},
   "outputs": [],
   "source": [
    "stream_root_folder = r\"s3://emotional-cities/data/nrg/poc-v1/TechnicalBenchmarks/TemporalBenchmarkSyncronizeOn2023_04_04_10_12_18/\"\n",
    "from benchmark_schemas import build_benchmarkschema_enobioeeg\n",
    "\n",
    "dataset = Dataset(\n",
    "    stream_root_folder,\n",
    "    datasetlabel=\"EnobioEeg_Benchmark\",\n",
    "    georeference= Georeference(),\n",
    "    schema=build_benchmarkschema_enobioeeg)\n",
    "dataset.populate_streams(autoload=True)\n"
   ]
  },
  {
   "cell_type": "code",
   "execution_count": null,
   "metadata": {},
   "outputs": [],
   "source": [
    "time_markers = dataset.streams.EEG.server_lsl_marker\n",
    "time_markers[:100]"
   ]
  },
  {
   "cell_type": "code",
   "execution_count": null,
   "metadata": {},
   "outputs": [],
   "source": [
    "# Get the synch pulse from the BioData \"Set\" stream\n",
    "bit_mask = 0x03\n",
    "rising_edge_events = dataset.streams.BioData.Set.data[dataset.streams.BioData.Set.data & bit_mask > 0]\n",
    "rising_edge_events\n",
    "\n",
    "## load eeg raw data\n",
    "raw_time = dataset.streams.EEG.data.np_time\n",
    "raw_markers = dataset.streams.EEG.data.np_markers\n",
    "raw_eeg = dataset.streams.EEG.data.np_eeg[:,1]\n",
    "\n",
    "time_markers = dataset.streams.EEG.server_lsl_marker\n",
    "\n",
    "threshold = -50 # au EEG units\n",
    "refractory_period = 2 # seconds\n",
    "refractory_samples = refractory_period * dataset.streams.EEG.data.fs # samples\n",
    "\n",
    "from scipy import signal\n",
    "\n",
    "b,a = signal.butter(3, (1,30), 'bandpass', fs=dataset.streams.EEG.data.fs)\n",
    "filtered_eeg = signal.filtfilt(b, a, raw_eeg)\n",
    "digitized_eeg = (filtered_eeg < threshold).astype(float)\n",
    "candidate_cross = np.where(np.diff(digitized_eeg) == 1)[0]\n",
    "candidate_cross = candidate_cross[candidate_cross > 1*dataset.streams.EEG.data.fs]\n",
    "candidate_cross = candidate_cross[np.diff(candidate_cross, prepend=np.inf) > refractory_samples]\n",
    "\n",
    "plt.figure(figsize= (9,6))\n",
    "plt.plot(raw_time, filtered_eeg)\n",
    "plt.scatter(raw_time[candidate_cross], filtered_eeg[candidate_cross], c='g')\n",
    "plt.xlim((20,200))\n",
    "plt.ylim((-200,200))\n",
    "plt.xlabel(\"Time (s)\")\n",
    "plt.ylabel(\"A.U. EEG units\")\n",
    "plt.show()\n",
    "\n",
    "ttl_time = raw_time[candidate_cross]\n",
    "_crop = np.min([len(ttl_time), len(time_markers)])\n",
    "delta_ttl_to_lsl = (ttl_time[:_crop] - time_markers[\"EegTimestamp\"][:_crop].values) * 1e3\n",
    "\n",
    "\n",
    "plt.figure(figsize= (7,4))\n",
    "plt.hist(delta_ttl_to_lsl, bins = 25, color= \"Teal\")\n",
    "plt.xlabel('Latency (ms)')\n",
    "plt.ylabel('Counts')\n",
    "plt.title(f'EEG_tag to EEG_ttl latency benchmark\\n$\\mu = \\\n",
    "    {np.nanmean(delta_ttl_to_lsl):.2f}, \\sigma = \\\n",
    "        {np.nanstd(delta_ttl_to_lsl):.2f},$ \\\n",
    "            [min:max] = [{np.nanmin(delta_ttl_to_lsl):.2f}:{np.nanmax(delta_ttl_to_lsl):.2f}]')\n",
    "plt.show()\n",
    "\n",
    "\n",
    "plt.figure(figsize= (7,4))\n",
    "plt.plot(delta_ttl_to_lsl)\n",
    "plt.title(\"Latency vs marker index\")\n",
    "plt.xlabel('Marker index')\n",
    "plt.ylabel('Latency (ms)')\n",
    "plt.show()"
   ]
  },
  {
   "cell_type": "code",
   "execution_count": null,
   "metadata": {},
   "outputs": [],
   "source": [
    "## Check if the LSL server timestamp and Eeg timestamp drift in relationship to each other\n",
    "plt.figure()\n",
    "_delta = time_markers[\"LslTimestamp\"].diff().values - time_markers[\"EegTimestamp\"].diff()\n",
    "plt.plot(_delta)\n",
    "plt.hlines(np.nanmean(_delta), 0, len(_delta), 'black')\n",
    "plt.xlabel(\"Marker index\")\n",
    "plt.ylabel(\"Delta time (s)\")\n",
    "plt.title(\"lsl_server vs eeg timestamps\")\n",
    "plt.show()"
   ]
  },
  {
   "cell_type": "code",
   "execution_count": null,
   "metadata": {},
   "outputs": [],
   "source": [
    "## Check if the LSL server timestamp and harp DO drift in relationship to each other\n",
    "server_lsl = dataset.streams.EEG.server_lsl_marker\n",
    "\n",
    "plt.figure()\n",
    "_delta = np.diff(server_lsl[\"LslTimestamp\"].values) - np.diff(rising_edge_events.index.values).astype(float) / 1e9\n",
    "plt.plot(_delta)\n",
    "plt.hlines(np.nanmean(_delta), 0, len(_delta), 'black')\n",
    "plt.xlabel(\"Marker index\")\n",
    "plt.ylabel(\"Delta time (s)\")\n",
    "plt.title(\"lsl_server vs ttl_harp timestamps\")\n",
    "plt.show()"
   ]
  },
  {
   "cell_type": "code",
   "execution_count": null,
   "metadata": {},
   "outputs": [],
   "source": [
    "from pluma.io.harp import _HARP_T0\n",
    "from sklearn.linear_model import LinearRegression\n",
    "\n",
    "valid_samples = pd.notna(server_lsl[\"EegTimestamp\"].values) & pd.notna(server_lsl[\"Seconds\"].values)\n",
    "raw_harp_time = (server_lsl[\"Seconds\"].values - np.datetime64(_HARP_T0)) / np.timedelta64(1, 's')\n",
    "eeg_time = server_lsl[\"EegTimestamp\"].values\n",
    "eeg_time = eeg_time.reshape(-1,1)\n",
    "raw_harp_time = raw_harp_time.reshape(-1,1)\n",
    "\n",
    "model = LinearRegression(fit_intercept=True).fit(eeg_time[valid_samples], raw_harp_time[valid_samples])\n",
    "r2 = model.score(eeg_time[valid_samples], raw_harp_time[valid_samples])\n",
    "print(model.coef_)\n",
    "print(r2)\n"
   ]
  },
  {
   "cell_type": "code",
   "execution_count": null,
   "metadata": {},
   "outputs": [],
   "source": []
  }
 ],
 "metadata": {
  "kernelspec": {
   "display_name": "Python 3.9.7 ('base')",
   "language": "python",
   "name": "python3"
  },
  "language_info": {
   "codemirror_mode": {
    "name": "ipython",
    "version": 3
   },
   "file_extension": ".py",
   "mimetype": "text/x-python",
   "name": "python",
   "nbconvert_exporter": "python",
   "pygments_lexer": "ipython3",
   "version": "3.9.7"
  },
  "orig_nbformat": 4,
  "vscode": {
   "interpreter": {
    "hash": "09bd21bb92291494554824029e1a9dff7dc56aa6d478169471a2232705d1a524"
   }
  }
 },
 "nbformat": 4,
 "nbformat_minor": 2
}
