{
 "cells": [
  {
   "cell_type": "code",
   "execution_count": null,
   "metadata": {},
   "outputs": [],
   "source": [
    "import matplotlib.pyplot as plt\n",
    "import datetime\n",
    "import tilemapbase as tmb\n",
    "import numpy as np\n",
    "import pandas as pd\n",
    "from pluma.stream.georeference import Georeference\n",
    "from pluma.stream.ubx import _UBX_MSGIDS\n",
    "from pluma.schema import Dataset\n",
    "\n",
    "## Notebook plotting\n",
    "%matplotlib inline\n",
    "plt.style.use('ggplot')\n",
    "\n",
    "## Figure export parameters\n",
    "new_rc_params = {'text.usetex': False,\n",
    "\"svg.fonttype\": 'none'\n",
    "}\n",
    "import matplotlib as mpl\n",
    "mpl.rcParams.update(new_rc_params)"
   ]
  },
  {
   "cell_type": "code",
   "execution_count": null,
   "metadata": {},
   "outputs": [],
   "source": [
    "stream_root_folder = r's3:///emotional-cities/data/nrg/poc-v1/TechnicalBenchmarks/SoundCardTKbenchmark2022_09_27_15_16_36'\n",
    "from benchmark_schemas import build_benchmarkschema_microphone\n",
    "\n",
    "dataset = Dataset(\n",
    "    stream_root_folder,\n",
    "    datasetlabel=\"Microphone_Benchmark\",\n",
    "    georeference= Georeference(),\n",
    "    schema=build_benchmarkschema_microphone)\n",
    "dataset.populate_streams(autoload=True)\n",
    "\n"
   ]
  },
  {
   "cell_type": "code",
   "execution_count": null,
   "metadata": {},
   "outputs": [],
   "source": [
    "mic_waveform = dataset.streams.Microphone.Audio.data[:,1]\n",
    "mic_waveform_filt = pd.DataFrame(mic_waveform).rolling(10000).max().to_numpy().flatten() #get rid of double hits due to hysteresis using a max-window filter.\n",
    "\n",
    "threshold = 1000\n",
    "ttl = (mic_waveform_filt > threshold).astype(int)\n",
    "ttl_rising_edges_loc = np.where(np.diff(ttl, prepend=np.NaN) == 1)[0]\n",
    "ttl_rising_edges = mic_waveform_filt[ttl_rising_edges_loc]\n",
    "\n",
    "\n",
    "plt.figure(figsize=(10, 5))\n",
    "plt.plot(mic_waveform_filt)\n",
    "plt.scatter(ttl_rising_edges_loc, ttl_rising_edges, color='green')\n",
    "plt.show()\n"
   ]
  },
  {
   "cell_type": "code",
   "execution_count": null,
   "metadata": {},
   "outputs": [],
   "source": [
    "## load the harp-software timestamped buffers\n",
    "buffers = dataset.streams.Microphone.BufferIndex.data\n",
    "fs = 44100\n",
    "buffer_size = 441\n",
    "print(f\"\"\"\n",
    "Fs = {fs} Hz\n",
    "Samples = {len(mic_waveform)}\n",
    "Buffers = {len(buffers)}\n",
    "Expected buffer size = {buffer_size}\n",
    "Samples per buffer = {len(mic_waveform)/len(buffers)}\n",
    "Buffer predicted duration = {len(mic_waveform)/len(buffers)/44100} s\n",
    "\"\"\")\n",
    "\n",
    "buffer_idx = np.floor(ttl_rising_edges_loc / buffer_size).astype(int).transpose()\n",
    "buffer_ts = buffers.iloc[buffer_idx,:]\n",
    "# Get the synch pulse from the BioData \"Set\" stream\n",
    "bit_mask = 0x03\n",
    "rising_edge_events = dataset.streams.BioData.Set.data[dataset.streams.BioData.Set.data & bit_mask > 0]\n",
    "\n",
    "delta_t = rising_edge_events.index.values - buffer_ts.index.values\n",
    "delta_t = -delta_t / np.timedelta64(1, 'ms')\n",
    "delta_t = delta_t[delta_t > 0]\n",
    "\n",
    "plt.figure(figsize= (9,6))\n",
    "plt.hist(delta_t, bins = 25, color= \"Teal\")\n",
    "plt.xlabel('Latency (ms)')\n",
    "plt.ylabel('Counts')\n",
    "plt.xlim((0,100))\n",
    "plt.title(f'Microphone latency benchmark\\n$\\mu = {np.mean(delta_t):.2f}, \\sigma = {np.std(delta_t):.2f},$ [min:max] = [{np.min(delta_t):.2f}:{np.max(delta_t):.2f}]')\n",
    "plt.show()"
   ]
  },
  {
   "cell_type": "code",
   "execution_count": null,
   "metadata": {},
   "outputs": [],
   "source": []
  }
 ],
 "metadata": {
  "kernelspec": {
   "display_name": "Python 3.9.7 ('base')",
   "language": "python",
   "name": "python3"
  },
  "language_info": {
   "codemirror_mode": {
    "name": "ipython",
    "version": 3
   },
   "file_extension": ".py",
   "mimetype": "text/x-python",
   "name": "python",
   "nbconvert_exporter": "python",
   "pygments_lexer": "ipython3",
   "version": "3.9.7"
  },
  "orig_nbformat": 4,
  "vscode": {
   "interpreter": {
    "hash": "09bd21bb92291494554824029e1a9dff7dc56aa6d478169471a2232705d1a524"
   }
  }
 },
 "nbformat": 4,
 "nbformat_minor": 2
}
